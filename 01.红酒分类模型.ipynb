{
 "cells": [
  {
   "cell_type": "markdown",
   "metadata": {},
   "source": [
    "### 红酒分类模型"
   ]
  },
  {
   "cell_type": "markdown",
   "metadata": {},
   "source": [
    "#### 1.导入相关的库"
   ]
  },
  {
   "cell_type": "code",
   "execution_count": 1,
   "metadata": {},
   "outputs": [],
   "source": [
    "from sklearn import tree\n",
    "from sklearn.datasets import load_wine\n",
    "from sklearn.model_selection import train_test_split"
   ]
  },
  {
   "cell_type": "markdown",
   "metadata": {},
   "source": [
    "#### 2.探索数据"
   ]
  },
  {
   "cell_type": "code",
   "execution_count": 2,
   "metadata": {},
   "outputs": [
    {
     "data": {
      "text/plain": [
       "{'data': array([[1.423e+01, 1.710e+00, 2.430e+00, ..., 1.040e+00, 3.920e+00,\n",
       "         1.065e+03],\n",
       "        [1.320e+01, 1.780e+00, 2.140e+00, ..., 1.050e+00, 3.400e+00,\n",
       "         1.050e+03],\n",
       "        [1.316e+01, 2.360e+00, 2.670e+00, ..., 1.030e+00, 3.170e+00,\n",
       "         1.185e+03],\n",
       "        ...,\n",
       "        [1.327e+01, 4.280e+00, 2.260e+00, ..., 5.900e-01, 1.560e+00,\n",
       "         8.350e+02],\n",
       "        [1.317e+01, 2.590e+00, 2.370e+00, ..., 6.000e-01, 1.620e+00,\n",
       "         8.400e+02],\n",
       "        [1.413e+01, 4.100e+00, 2.740e+00, ..., 6.100e-01, 1.600e+00,\n",
       "         5.600e+02]]),\n",
       " 'target': array([0, 0, 0, 0, 0, 0, 0, 0, 0, 0, 0, 0, 0, 0, 0, 0, 0, 0, 0, 0, 0, 0,\n",
       "        0, 0, 0, 0, 0, 0, 0, 0, 0, 0, 0, 0, 0, 0, 0, 0, 0, 0, 0, 0, 0, 0,\n",
       "        0, 0, 0, 0, 0, 0, 0, 0, 0, 0, 0, 0, 0, 0, 0, 1, 1, 1, 1, 1, 1, 1,\n",
       "        1, 1, 1, 1, 1, 1, 1, 1, 1, 1, 1, 1, 1, 1, 1, 1, 1, 1, 1, 1, 1, 1,\n",
       "        1, 1, 1, 1, 1, 1, 1, 1, 1, 1, 1, 1, 1, 1, 1, 1, 1, 1, 1, 1, 1, 1,\n",
       "        1, 1, 1, 1, 1, 1, 1, 1, 1, 1, 1, 1, 1, 1, 1, 1, 1, 1, 1, 1, 2, 2,\n",
       "        2, 2, 2, 2, 2, 2, 2, 2, 2, 2, 2, 2, 2, 2, 2, 2, 2, 2, 2, 2, 2, 2,\n",
       "        2, 2, 2, 2, 2, 2, 2, 2, 2, 2, 2, 2, 2, 2, 2, 2, 2, 2, 2, 2, 2, 2,\n",
       "        2, 2]),\n",
       " 'frame': None,\n",
       " 'target_names': array(['class_0', 'class_1', 'class_2'], dtype='<U7'),\n",
       " 'DESCR': '.. _wine_dataset:\\n\\nWine recognition dataset\\n------------------------\\n\\n**Data Set Characteristics:**\\n\\n    :Number of Instances: 178 (50 in each of three classes)\\n    :Number of Attributes: 13 numeric, predictive attributes and the class\\n    :Attribute Information:\\n \\t\\t- Alcohol\\n \\t\\t- Malic acid\\n \\t\\t- Ash\\n\\t\\t- Alcalinity of ash  \\n \\t\\t- Magnesium\\n\\t\\t- Total phenols\\n \\t\\t- Flavanoids\\n \\t\\t- Nonflavanoid phenols\\n \\t\\t- Proanthocyanins\\n\\t\\t- Color intensity\\n \\t\\t- Hue\\n \\t\\t- OD280/OD315 of diluted wines\\n \\t\\t- Proline\\n\\n    - class:\\n            - class_0\\n            - class_1\\n            - class_2\\n\\t\\t\\n    :Summary Statistics:\\n    \\n    ============================= ==== ===== ======= =====\\n                                   Min   Max   Mean     SD\\n    ============================= ==== ===== ======= =====\\n    Alcohol:                      11.0  14.8    13.0   0.8\\n    Malic Acid:                   0.74  5.80    2.34  1.12\\n    Ash:                          1.36  3.23    2.36  0.27\\n    Alcalinity of Ash:            10.6  30.0    19.5   3.3\\n    Magnesium:                    70.0 162.0    99.7  14.3\\n    Total Phenols:                0.98  3.88    2.29  0.63\\n    Flavanoids:                   0.34  5.08    2.03  1.00\\n    Nonflavanoid Phenols:         0.13  0.66    0.36  0.12\\n    Proanthocyanins:              0.41  3.58    1.59  0.57\\n    Colour Intensity:              1.3  13.0     5.1   2.3\\n    Hue:                          0.48  1.71    0.96  0.23\\n    OD280/OD315 of diluted wines: 1.27  4.00    2.61  0.71\\n    Proline:                       278  1680     746   315\\n    ============================= ==== ===== ======= =====\\n\\n    :Missing Attribute Values: None\\n    :Class Distribution: class_0 (59), class_1 (71), class_2 (48)\\n    :Creator: R.A. Fisher\\n    :Donor: Michael Marshall (MARSHALL%PLU@io.arc.nasa.gov)\\n    :Date: July, 1988\\n\\nThis is a copy of UCI ML Wine recognition datasets.\\nhttps://archive.ics.uci.edu/ml/machine-learning-databases/wine/wine.data\\n\\nThe data is the results of a chemical analysis of wines grown in the same\\nregion in Italy by three different cultivators. There are thirteen different\\nmeasurements taken for different constituents found in the three types of\\nwine.\\n\\nOriginal Owners: \\n\\nForina, M. et al, PARVUS - \\nAn Extendible Package for Data Exploration, Classification and Correlation. \\nInstitute of Pharmaceutical and Food Analysis and Technologies,\\nVia Brigata Salerno, 16147 Genoa, Italy.\\n\\nCitation:\\n\\nLichman, M. (2013). UCI Machine Learning Repository\\n[https://archive.ics.uci.edu/ml]. Irvine, CA: University of California,\\nSchool of Information and Computer Science. \\n\\n.. topic:: References\\n\\n  (1) S. Aeberhard, D. Coomans and O. de Vel, \\n  Comparison of Classifiers in High Dimensional Settings, \\n  Tech. Rep. no. 92-02, (1992), Dept. of Computer Science and Dept. of  \\n  Mathematics and Statistics, James Cook University of North Queensland. \\n  (Also submitted to Technometrics). \\n\\n  The data was used with many others for comparing various \\n  classifiers. The classes are separable, though only RDA \\n  has achieved 100% correct classification. \\n  (RDA : 100%, QDA 99.4%, LDA 98.9%, 1NN 96.1% (z-transformed data)) \\n  (All results using the leave-one-out technique) \\n\\n  (2) S. Aeberhard, D. Coomans and O. de Vel, \\n  \"THE CLASSIFICATION PERFORMANCE OF RDA\" \\n  Tech. Rep. no. 92-01, (1992), Dept. of Computer Science and Dept. of \\n  Mathematics and Statistics, James Cook University of North Queensland. \\n  (Also submitted to Journal of Chemometrics).\\n',\n",
       " 'feature_names': ['alcohol',\n",
       "  'malic_acid',\n",
       "  'ash',\n",
       "  'alcalinity_of_ash',\n",
       "  'magnesium',\n",
       "  'total_phenols',\n",
       "  'flavanoids',\n",
       "  'nonflavanoid_phenols',\n",
       "  'proanthocyanins',\n",
       "  'color_intensity',\n",
       "  'hue',\n",
       "  'od280/od315_of_diluted_wines',\n",
       "  'proline']}"
      ]
     },
     "execution_count": 2,
     "metadata": {},
     "output_type": "execute_result"
    }
   ],
   "source": [
    "wine = load_wine()\n",
    "wine"
   ]
  },
  {
   "cell_type": "code",
   "execution_count": 3,
   "metadata": {},
   "outputs": [
    {
     "data": {
      "text/plain": [
       "(178, 13)"
      ]
     },
     "execution_count": 3,
     "metadata": {},
     "output_type": "execute_result"
    }
   ],
   "source": [
    "wine.data.shape"
   ]
  },
  {
   "cell_type": "code",
   "execution_count": 4,
   "metadata": {},
   "outputs": [
    {
     "data": {
      "text/plain": [
       "array([0, 0, 0, 0, 0, 0, 0, 0, 0, 0, 0, 0, 0, 0, 0, 0, 0, 0, 0, 0, 0, 0,\n",
       "       0, 0, 0, 0, 0, 0, 0, 0, 0, 0, 0, 0, 0, 0, 0, 0, 0, 0, 0, 0, 0, 0,\n",
       "       0, 0, 0, 0, 0, 0, 0, 0, 0, 0, 0, 0, 0, 0, 0, 1, 1, 1, 1, 1, 1, 1,\n",
       "       1, 1, 1, 1, 1, 1, 1, 1, 1, 1, 1, 1, 1, 1, 1, 1, 1, 1, 1, 1, 1, 1,\n",
       "       1, 1, 1, 1, 1, 1, 1, 1, 1, 1, 1, 1, 1, 1, 1, 1, 1, 1, 1, 1, 1, 1,\n",
       "       1, 1, 1, 1, 1, 1, 1, 1, 1, 1, 1, 1, 1, 1, 1, 1, 1, 1, 1, 1, 2, 2,\n",
       "       2, 2, 2, 2, 2, 2, 2, 2, 2, 2, 2, 2, 2, 2, 2, 2, 2, 2, 2, 2, 2, 2,\n",
       "       2, 2, 2, 2, 2, 2, 2, 2, 2, 2, 2, 2, 2, 2, 2, 2, 2, 2, 2, 2, 2, 2,\n",
       "       2, 2])"
      ]
     },
     "execution_count": 4,
     "metadata": {},
     "output_type": "execute_result"
    }
   ],
   "source": [
    "wine.target"
   ]
  },
  {
   "cell_type": "code",
   "execution_count": 5,
   "metadata": {},
   "outputs": [
    {
     "data": {
      "text/html": [
       "<div>\n",
       "<style scoped>\n",
       "    .dataframe tbody tr th:only-of-type {\n",
       "        vertical-align: middle;\n",
       "    }\n",
       "\n",
       "    .dataframe tbody tr th {\n",
       "        vertical-align: top;\n",
       "    }\n",
       "\n",
       "    .dataframe thead th {\n",
       "        text-align: right;\n",
       "    }\n",
       "</style>\n",
       "<table border=\"1\" class=\"dataframe\">\n",
       "  <thead>\n",
       "    <tr style=\"text-align: right;\">\n",
       "      <th></th>\n",
       "      <th>0</th>\n",
       "      <th>1</th>\n",
       "      <th>2</th>\n",
       "      <th>3</th>\n",
       "      <th>4</th>\n",
       "      <th>5</th>\n",
       "      <th>6</th>\n",
       "      <th>7</th>\n",
       "      <th>8</th>\n",
       "      <th>9</th>\n",
       "      <th>10</th>\n",
       "      <th>11</th>\n",
       "      <th>12</th>\n",
       "      <th>0</th>\n",
       "    </tr>\n",
       "  </thead>\n",
       "  <tbody>\n",
       "    <tr>\n",
       "      <th>0</th>\n",
       "      <td>14.23</td>\n",
       "      <td>1.71</td>\n",
       "      <td>2.43</td>\n",
       "      <td>15.6</td>\n",
       "      <td>127.0</td>\n",
       "      <td>2.80</td>\n",
       "      <td>3.06</td>\n",
       "      <td>0.28</td>\n",
       "      <td>2.29</td>\n",
       "      <td>5.64</td>\n",
       "      <td>1.04</td>\n",
       "      <td>3.92</td>\n",
       "      <td>1065.0</td>\n",
       "      <td>0</td>\n",
       "    </tr>\n",
       "    <tr>\n",
       "      <th>1</th>\n",
       "      <td>13.20</td>\n",
       "      <td>1.78</td>\n",
       "      <td>2.14</td>\n",
       "      <td>11.2</td>\n",
       "      <td>100.0</td>\n",
       "      <td>2.65</td>\n",
       "      <td>2.76</td>\n",
       "      <td>0.26</td>\n",
       "      <td>1.28</td>\n",
       "      <td>4.38</td>\n",
       "      <td>1.05</td>\n",
       "      <td>3.40</td>\n",
       "      <td>1050.0</td>\n",
       "      <td>0</td>\n",
       "    </tr>\n",
       "    <tr>\n",
       "      <th>2</th>\n",
       "      <td>13.16</td>\n",
       "      <td>2.36</td>\n",
       "      <td>2.67</td>\n",
       "      <td>18.6</td>\n",
       "      <td>101.0</td>\n",
       "      <td>2.80</td>\n",
       "      <td>3.24</td>\n",
       "      <td>0.30</td>\n",
       "      <td>2.81</td>\n",
       "      <td>5.68</td>\n",
       "      <td>1.03</td>\n",
       "      <td>3.17</td>\n",
       "      <td>1185.0</td>\n",
       "      <td>0</td>\n",
       "    </tr>\n",
       "    <tr>\n",
       "      <th>3</th>\n",
       "      <td>14.37</td>\n",
       "      <td>1.95</td>\n",
       "      <td>2.50</td>\n",
       "      <td>16.8</td>\n",
       "      <td>113.0</td>\n",
       "      <td>3.85</td>\n",
       "      <td>3.49</td>\n",
       "      <td>0.24</td>\n",
       "      <td>2.18</td>\n",
       "      <td>7.80</td>\n",
       "      <td>0.86</td>\n",
       "      <td>3.45</td>\n",
       "      <td>1480.0</td>\n",
       "      <td>0</td>\n",
       "    </tr>\n",
       "    <tr>\n",
       "      <th>4</th>\n",
       "      <td>13.24</td>\n",
       "      <td>2.59</td>\n",
       "      <td>2.87</td>\n",
       "      <td>21.0</td>\n",
       "      <td>118.0</td>\n",
       "      <td>2.80</td>\n",
       "      <td>2.69</td>\n",
       "      <td>0.39</td>\n",
       "      <td>1.82</td>\n",
       "      <td>4.32</td>\n",
       "      <td>1.04</td>\n",
       "      <td>2.93</td>\n",
       "      <td>735.0</td>\n",
       "      <td>0</td>\n",
       "    </tr>\n",
       "    <tr>\n",
       "      <th>...</th>\n",
       "      <td>...</td>\n",
       "      <td>...</td>\n",
       "      <td>...</td>\n",
       "      <td>...</td>\n",
       "      <td>...</td>\n",
       "      <td>...</td>\n",
       "      <td>...</td>\n",
       "      <td>...</td>\n",
       "      <td>...</td>\n",
       "      <td>...</td>\n",
       "      <td>...</td>\n",
       "      <td>...</td>\n",
       "      <td>...</td>\n",
       "      <td>...</td>\n",
       "    </tr>\n",
       "    <tr>\n",
       "      <th>173</th>\n",
       "      <td>13.71</td>\n",
       "      <td>5.65</td>\n",
       "      <td>2.45</td>\n",
       "      <td>20.5</td>\n",
       "      <td>95.0</td>\n",
       "      <td>1.68</td>\n",
       "      <td>0.61</td>\n",
       "      <td>0.52</td>\n",
       "      <td>1.06</td>\n",
       "      <td>7.70</td>\n",
       "      <td>0.64</td>\n",
       "      <td>1.74</td>\n",
       "      <td>740.0</td>\n",
       "      <td>2</td>\n",
       "    </tr>\n",
       "    <tr>\n",
       "      <th>174</th>\n",
       "      <td>13.40</td>\n",
       "      <td>3.91</td>\n",
       "      <td>2.48</td>\n",
       "      <td>23.0</td>\n",
       "      <td>102.0</td>\n",
       "      <td>1.80</td>\n",
       "      <td>0.75</td>\n",
       "      <td>0.43</td>\n",
       "      <td>1.41</td>\n",
       "      <td>7.30</td>\n",
       "      <td>0.70</td>\n",
       "      <td>1.56</td>\n",
       "      <td>750.0</td>\n",
       "      <td>2</td>\n",
       "    </tr>\n",
       "    <tr>\n",
       "      <th>175</th>\n",
       "      <td>13.27</td>\n",
       "      <td>4.28</td>\n",
       "      <td>2.26</td>\n",
       "      <td>20.0</td>\n",
       "      <td>120.0</td>\n",
       "      <td>1.59</td>\n",
       "      <td>0.69</td>\n",
       "      <td>0.43</td>\n",
       "      <td>1.35</td>\n",
       "      <td>10.20</td>\n",
       "      <td>0.59</td>\n",
       "      <td>1.56</td>\n",
       "      <td>835.0</td>\n",
       "      <td>2</td>\n",
       "    </tr>\n",
       "    <tr>\n",
       "      <th>176</th>\n",
       "      <td>13.17</td>\n",
       "      <td>2.59</td>\n",
       "      <td>2.37</td>\n",
       "      <td>20.0</td>\n",
       "      <td>120.0</td>\n",
       "      <td>1.65</td>\n",
       "      <td>0.68</td>\n",
       "      <td>0.53</td>\n",
       "      <td>1.46</td>\n",
       "      <td>9.30</td>\n",
       "      <td>0.60</td>\n",
       "      <td>1.62</td>\n",
       "      <td>840.0</td>\n",
       "      <td>2</td>\n",
       "    </tr>\n",
       "    <tr>\n",
       "      <th>177</th>\n",
       "      <td>14.13</td>\n",
       "      <td>4.10</td>\n",
       "      <td>2.74</td>\n",
       "      <td>24.5</td>\n",
       "      <td>96.0</td>\n",
       "      <td>2.05</td>\n",
       "      <td>0.76</td>\n",
       "      <td>0.56</td>\n",
       "      <td>1.35</td>\n",
       "      <td>9.20</td>\n",
       "      <td>0.61</td>\n",
       "      <td>1.60</td>\n",
       "      <td>560.0</td>\n",
       "      <td>2</td>\n",
       "    </tr>\n",
       "  </tbody>\n",
       "</table>\n",
       "<p>178 rows × 14 columns</p>\n",
       "</div>"
      ],
      "text/plain": [
       "        0     1     2     3      4     5     6     7     8      9     10  \\\n",
       "0    14.23  1.71  2.43  15.6  127.0  2.80  3.06  0.28  2.29   5.64  1.04   \n",
       "1    13.20  1.78  2.14  11.2  100.0  2.65  2.76  0.26  1.28   4.38  1.05   \n",
       "2    13.16  2.36  2.67  18.6  101.0  2.80  3.24  0.30  2.81   5.68  1.03   \n",
       "3    14.37  1.95  2.50  16.8  113.0  3.85  3.49  0.24  2.18   7.80  0.86   \n",
       "4    13.24  2.59  2.87  21.0  118.0  2.80  2.69  0.39  1.82   4.32  1.04   \n",
       "..     ...   ...   ...   ...    ...   ...   ...   ...   ...    ...   ...   \n",
       "173  13.71  5.65  2.45  20.5   95.0  1.68  0.61  0.52  1.06   7.70  0.64   \n",
       "174  13.40  3.91  2.48  23.0  102.0  1.80  0.75  0.43  1.41   7.30  0.70   \n",
       "175  13.27  4.28  2.26  20.0  120.0  1.59  0.69  0.43  1.35  10.20  0.59   \n",
       "176  13.17  2.59  2.37  20.0  120.0  1.65  0.68  0.53  1.46   9.30  0.60   \n",
       "177  14.13  4.10  2.74  24.5   96.0  2.05  0.76  0.56  1.35   9.20  0.61   \n",
       "\n",
       "       11      12  0   \n",
       "0    3.92  1065.0   0  \n",
       "1    3.40  1050.0   0  \n",
       "2    3.17  1185.0   0  \n",
       "3    3.45  1480.0   0  \n",
       "4    2.93   735.0   0  \n",
       "..    ...     ...  ..  \n",
       "173  1.74   740.0   2  \n",
       "174  1.56   750.0   2  \n",
       "175  1.56   835.0   2  \n",
       "176  1.62   840.0   2  \n",
       "177  1.60   560.0   2  \n",
       "\n",
       "[178 rows x 14 columns]"
      ]
     },
     "execution_count": 5,
     "metadata": {},
     "output_type": "execute_result"
    }
   ],
   "source": [
    "import pandas as pd\n",
    "pd.concat([pd.DataFrame(wine.data),pd.DataFrame(wine.target)],axis=1)"
   ]
  },
  {
   "cell_type": "code",
   "execution_count": 6,
   "metadata": {},
   "outputs": [
    {
     "data": {
      "text/plain": [
       "['alcohol',\n",
       " 'malic_acid',\n",
       " 'ash',\n",
       " 'alcalinity_of_ash',\n",
       " 'magnesium',\n",
       " 'total_phenols',\n",
       " 'flavanoids',\n",
       " 'nonflavanoid_phenols',\n",
       " 'proanthocyanins',\n",
       " 'color_intensity',\n",
       " 'hue',\n",
       " 'od280/od315_of_diluted_wines',\n",
       " 'proline']"
      ]
     },
     "execution_count": 6,
     "metadata": {},
     "output_type": "execute_result"
    }
   ],
   "source": [
    "wine.feature_names"
   ]
  },
  {
   "cell_type": "code",
   "execution_count": 7,
   "metadata": {},
   "outputs": [
    {
     "data": {
      "text/plain": [
       "array(['class_0', 'class_1', 'class_2'], dtype='<U7')"
      ]
     },
     "execution_count": 7,
     "metadata": {},
     "output_type": "execute_result"
    }
   ],
   "source": [
    "wine.target_names"
   ]
  },
  {
   "cell_type": "markdown",
   "metadata": {},
   "source": [
    "#### 3.分训练集和测试集"
   ]
  },
  {
   "cell_type": "code",
   "execution_count": 8,
   "metadata": {},
   "outputs": [
    {
     "data": {
      "text/plain": [
       "(124, 13)"
      ]
     },
     "execution_count": 8,
     "metadata": {},
     "output_type": "execute_result"
    }
   ],
   "source": [
    "Xtrain,Xtest,ytrain,ytest = train_test_split(wine.data,wine.target,test_size=0.3)\n",
    "Xtrain.shape"
   ]
  },
  {
   "cell_type": "code",
   "execution_count": 9,
   "metadata": {},
   "outputs": [
    {
     "data": {
      "text/plain": [
       "(54, 13)"
      ]
     },
     "execution_count": 9,
     "metadata": {},
     "output_type": "execute_result"
    }
   ],
   "source": [
    "Xtest.shape"
   ]
  },
  {
   "cell_type": "markdown",
   "metadata": {},
   "source": [
    "#### 4.建立模型"
   ]
  },
  {
   "cell_type": "code",
   "execution_count": 10,
   "metadata": {},
   "outputs": [
    {
     "data": {
      "text/plain": [
       "0.8703703703703703"
      ]
     },
     "execution_count": 10,
     "metadata": {},
     "output_type": "execute_result"
    }
   ],
   "source": [
    "clf = tree.DecisionTreeClassifier()\n",
    "clf = clf.fit(Xtrain,ytrain)\n",
    "score = clf.score(Xtest,ytest)\n",
    "score  # score默认为accuracy即精确度"
   ]
  },
  {
   "cell_type": "markdown",
   "metadata": {},
   "source": [
    "#### 5.画出一棵树"
   ]
  },
  {
   "cell_type": "code",
   "execution_count": 11,
   "metadata": {},
   "outputs": [
    {
     "data": {
      "image/svg+xml": [
       "<?xml version=\"1.0\" encoding=\"UTF-8\" standalone=\"no\"?>\r\n",
       "<!DOCTYPE svg PUBLIC \"-//W3C//DTD SVG 1.1//EN\"\r\n",
       " \"http://www.w3.org/Graphics/SVG/1.1/DTD/svg11.dtd\">\r\n",
       "<!-- Generated by graphviz version 2.38.0 (20140413.2041)\r\n",
       " -->\r\n",
       "<!-- Title: Tree Pages: 1 -->\r\n",
       "<svg width=\"1070pt\" height=\"552pt\"\r\n",
       " viewBox=\"0.00 0.00 1069.50 552.00\" xmlns=\"http://www.w3.org/2000/svg\" xmlns:xlink=\"http://www.w3.org/1999/xlink\">\r\n",
       "<g id=\"graph0\" class=\"graph\" transform=\"scale(1 1) rotate(0) translate(4 548)\">\r\n",
       "<title>Tree</title>\r\n",
       "<polygon fill=\"white\" stroke=\"none\" points=\"-4,4 -4,-548 1065.5,-548 1065.5,4 -4,4\"/>\r\n",
       "<!-- 0 -->\r\n",
       "<g id=\"node1\" class=\"node\"><title>0</title>\r\n",
       "<path fill=\"#eafcf1\" stroke=\"black\" d=\"M591.5,-544C591.5,-544 478.5,-544 478.5,-544 472.5,-544 466.5,-538 466.5,-532 466.5,-532 466.5,-473 466.5,-473 466.5,-467 472.5,-461 478.5,-461 478.5,-461 591.5,-461 591.5,-461 597.5,-461 603.5,-467 603.5,-473 603.5,-473 603.5,-532 603.5,-532 603.5,-538 597.5,-544 591.5,-544\"/>\r\n",
       "<text text-anchor=\"middle\" x=\"535\" y=\"-528.8\" font-family=\"Helvetica,sans-Serif\" font-size=\"14.00\">脯氨酸 &lt;= 755.0</text>\r\n",
       "<text text-anchor=\"middle\" x=\"535\" y=\"-513.8\" font-family=\"Helvetica,sans-Serif\" font-size=\"14.00\">gini = 0.657</text>\r\n",
       "<text text-anchor=\"middle\" x=\"535\" y=\"-498.8\" font-family=\"Helvetica,sans-Serif\" font-size=\"14.00\">samples = 124</text>\r\n",
       "<text text-anchor=\"middle\" x=\"535\" y=\"-483.8\" font-family=\"Helvetica,sans-Serif\" font-size=\"14.00\">value = [41, 50, 33]</text>\r\n",
       "<text text-anchor=\"middle\" x=\"535\" y=\"-468.8\" font-family=\"Helvetica,sans-Serif\" font-size=\"14.00\">class = 雪莉</text>\r\n",
       "</g>\r\n",
       "<!-- 1 -->\r\n",
       "<g id=\"node2\" class=\"node\"><title>1</title>\r\n",
       "<path fill=\"#b9f6d2\" stroke=\"black\" d=\"M486.5,-425C486.5,-425 381.5,-425 381.5,-425 375.5,-425 369.5,-419 369.5,-413 369.5,-413 369.5,-354 369.5,-354 369.5,-348 375.5,-342 381.5,-342 381.5,-342 486.5,-342 486.5,-342 492.5,-342 498.5,-348 498.5,-354 498.5,-354 498.5,-413 498.5,-413 498.5,-419 492.5,-425 486.5,-425\"/>\r\n",
       "<text text-anchor=\"middle\" x=\"434\" y=\"-409.8\" font-family=\"Helvetica,sans-Serif\" font-size=\"14.00\">颜色强度 &lt;= 4.85</text>\r\n",
       "<text text-anchor=\"middle\" x=\"434\" y=\"-394.8\" font-family=\"Helvetica,sans-Serif\" font-size=\"14.00\">gini = 0.477</text>\r\n",
       "<text text-anchor=\"middle\" x=\"434\" y=\"-379.8\" font-family=\"Helvetica,sans-Serif\" font-size=\"14.00\">samples = 79</text>\r\n",
       "<text text-anchor=\"middle\" x=\"434\" y=\"-364.8\" font-family=\"Helvetica,sans-Serif\" font-size=\"14.00\">value = [0, 48, 31]</text>\r\n",
       "<text text-anchor=\"middle\" x=\"434\" y=\"-349.8\" font-family=\"Helvetica,sans-Serif\" font-size=\"14.00\">class = 雪莉</text>\r\n",
       "</g>\r\n",
       "<!-- 0&#45;&gt;1 -->\r\n",
       "<g id=\"edge1\" class=\"edge\"><title>0&#45;&gt;1</title>\r\n",
       "<path fill=\"none\" stroke=\"black\" d=\"M499.959,-460.907C492.124,-451.832 483.741,-442.121 475.669,-432.769\"/>\r\n",
       "<polygon fill=\"black\" stroke=\"black\" points=\"478.163,-430.303 468.98,-425.021 472.865,-434.878 478.163,-430.303\"/>\r\n",
       "<text text-anchor=\"middle\" x=\"467.15\" y=\"-446.254\" font-family=\"Helvetica,sans-Serif\" font-size=\"14.00\">True</text>\r\n",
       "</g>\r\n",
       "<!-- 12 -->\r\n",
       "<g id=\"node13\" class=\"node\"><title>12</title>\r\n",
       "<path fill=\"#e78d4b\" stroke=\"black\" d=\"M685.5,-425C685.5,-425 588.5,-425 588.5,-425 582.5,-425 576.5,-419 576.5,-413 576.5,-413 576.5,-354 576.5,-354 576.5,-348 582.5,-342 588.5,-342 588.5,-342 685.5,-342 685.5,-342 691.5,-342 697.5,-348 697.5,-354 697.5,-354 697.5,-413 697.5,-413 697.5,-419 691.5,-425 685.5,-425\"/>\r\n",
       "<text text-anchor=\"middle\" x=\"637\" y=\"-409.8\" font-family=\"Helvetica,sans-Serif\" font-size=\"14.00\">类黄酮 &lt;= 2.255</text>\r\n",
       "<text text-anchor=\"middle\" x=\"637\" y=\"-394.8\" font-family=\"Helvetica,sans-Serif\" font-size=\"14.00\">gini = 0.166</text>\r\n",
       "<text text-anchor=\"middle\" x=\"637\" y=\"-379.8\" font-family=\"Helvetica,sans-Serif\" font-size=\"14.00\">samples = 45</text>\r\n",
       "<text text-anchor=\"middle\" x=\"637\" y=\"-364.8\" font-family=\"Helvetica,sans-Serif\" font-size=\"14.00\">value = [41, 2, 2]</text>\r\n",
       "<text text-anchor=\"middle\" x=\"637\" y=\"-349.8\" font-family=\"Helvetica,sans-Serif\" font-size=\"14.00\">class = 琴酒</text>\r\n",
       "</g>\r\n",
       "<!-- 0&#45;&gt;12 -->\r\n",
       "<g id=\"edge12\" class=\"edge\"><title>0&#45;&gt;12</title>\r\n",
       "<path fill=\"none\" stroke=\"black\" d=\"M570.388,-460.907C578.3,-451.832 586.766,-442.121 594.919,-432.769\"/>\r\n",
       "<polygon fill=\"black\" stroke=\"black\" points=\"597.741,-434.859 601.674,-425.021 592.465,-430.259 597.741,-434.859\"/>\r\n",
       "<text text-anchor=\"middle\" x=\"603.382\" y=\"-446.262\" font-family=\"Helvetica,sans-Serif\" font-size=\"14.00\">False</text>\r\n",
       "</g>\r\n",
       "<!-- 2 -->\r\n",
       "<g id=\"node3\" class=\"node\"><title>2</title>\r\n",
       "<path fill=\"#46e789\" stroke=\"black\" d=\"M292.5,-306C292.5,-306 97.5,-306 97.5,-306 91.5,-306 85.5,-300 85.5,-294 85.5,-294 85.5,-235 85.5,-235 85.5,-229 91.5,-223 97.5,-223 97.5,-223 292.5,-223 292.5,-223 298.5,-223 304.5,-229 304.5,-235 304.5,-235 304.5,-294 304.5,-294 304.5,-300 298.5,-306 292.5,-306\"/>\r\n",
       "<text text-anchor=\"middle\" x=\"195\" y=\"-290.8\" font-family=\"Helvetica,sans-Serif\" font-size=\"14.00\">od280/od315稀释葡萄酒 &lt;= 1.48</text>\r\n",
       "<text text-anchor=\"middle\" x=\"195\" y=\"-275.8\" font-family=\"Helvetica,sans-Serif\" font-size=\"14.00\">gini = 0.115</text>\r\n",
       "<text text-anchor=\"middle\" x=\"195\" y=\"-260.8\" font-family=\"Helvetica,sans-Serif\" font-size=\"14.00\">samples = 49</text>\r\n",
       "<text text-anchor=\"middle\" x=\"195\" y=\"-245.8\" font-family=\"Helvetica,sans-Serif\" font-size=\"14.00\">value = [0, 46, 3]</text>\r\n",
       "<text text-anchor=\"middle\" x=\"195\" y=\"-230.8\" font-family=\"Helvetica,sans-Serif\" font-size=\"14.00\">class = 雪莉</text>\r\n",
       "</g>\r\n",
       "<!-- 1&#45;&gt;2 -->\r\n",
       "<g id=\"edge2\" class=\"edge\"><title>1&#45;&gt;2</title>\r\n",
       "<path fill=\"none\" stroke=\"black\" d=\"M369.323,-350.838C343.986,-338.434 314.45,-323.976 286.969,-310.522\"/>\r\n",
       "<polygon fill=\"black\" stroke=\"black\" points=\"288.257,-307.256 277.737,-306.003 285.179,-313.543 288.257,-307.256\"/>\r\n",
       "</g>\r\n",
       "<!-- 7 -->\r\n",
       "<g id=\"node8\" class=\"node\"><title>7</title>\r\n",
       "<path fill=\"#8a47e7\" stroke=\"black\" d=\"M482.5,-306C482.5,-306 385.5,-306 385.5,-306 379.5,-306 373.5,-300 373.5,-294 373.5,-294 373.5,-235 373.5,-235 373.5,-229 379.5,-223 385.5,-223 385.5,-223 482.5,-223 482.5,-223 488.5,-223 494.5,-229 494.5,-235 494.5,-235 494.5,-294 494.5,-294 494.5,-300 488.5,-306 482.5,-306\"/>\r\n",
       "<text text-anchor=\"middle\" x=\"434\" y=\"-290.8\" font-family=\"Helvetica,sans-Serif\" font-size=\"14.00\">类黄酮 &lt;= 1.4</text>\r\n",
       "<text text-anchor=\"middle\" x=\"434\" y=\"-275.8\" font-family=\"Helvetica,sans-Serif\" font-size=\"14.00\">gini = 0.124</text>\r\n",
       "<text text-anchor=\"middle\" x=\"434\" y=\"-260.8\" font-family=\"Helvetica,sans-Serif\" font-size=\"14.00\">samples = 30</text>\r\n",
       "<text text-anchor=\"middle\" x=\"434\" y=\"-245.8\" font-family=\"Helvetica,sans-Serif\" font-size=\"14.00\">value = [0, 2, 28]</text>\r\n",
       "<text text-anchor=\"middle\" x=\"434\" y=\"-230.8\" font-family=\"Helvetica,sans-Serif\" font-size=\"14.00\">class = 贝尔摩德</text>\r\n",
       "</g>\r\n",
       "<!-- 1&#45;&gt;7 -->\r\n",
       "<g id=\"edge7\" class=\"edge\"><title>1&#45;&gt;7</title>\r\n",
       "<path fill=\"none\" stroke=\"black\" d=\"M434,-341.907C434,-333.649 434,-324.864 434,-316.302\"/>\r\n",
       "<polygon fill=\"black\" stroke=\"black\" points=\"437.5,-316.021 434,-306.021 430.5,-316.021 437.5,-316.021\"/>\r\n",
       "</g>\r\n",
       "<!-- 3 -->\r\n",
       "<g id=\"node4\" class=\"node\"><title>3</title>\r\n",
       "<path fill=\"#8139e5\" stroke=\"black\" d=\"M104,-179.5C104,-179.5 12,-179.5 12,-179.5 6,-179.5 0,-173.5 0,-167.5 0,-167.5 0,-123.5 0,-123.5 0,-117.5 6,-111.5 12,-111.5 12,-111.5 104,-111.5 104,-111.5 110,-111.5 116,-117.5 116,-123.5 116,-123.5 116,-167.5 116,-167.5 116,-173.5 110,-179.5 104,-179.5\"/>\r\n",
       "<text text-anchor=\"middle\" x=\"58\" y=\"-164.3\" font-family=\"Helvetica,sans-Serif\" font-size=\"14.00\">gini = 0.0</text>\r\n",
       "<text text-anchor=\"middle\" x=\"58\" y=\"-149.3\" font-family=\"Helvetica,sans-Serif\" font-size=\"14.00\">samples = 2</text>\r\n",
       "<text text-anchor=\"middle\" x=\"58\" y=\"-134.3\" font-family=\"Helvetica,sans-Serif\" font-size=\"14.00\">value = [0, 0, 2]</text>\r\n",
       "<text text-anchor=\"middle\" x=\"58\" y=\"-119.3\" font-family=\"Helvetica,sans-Serif\" font-size=\"14.00\">class = 贝尔摩德</text>\r\n",
       "</g>\r\n",
       "<!-- 2&#45;&gt;3 -->\r\n",
       "<g id=\"edge3\" class=\"edge\"><title>2&#45;&gt;3</title>\r\n",
       "<path fill=\"none\" stroke=\"black\" d=\"M147.469,-222.907C133.643,-211.101 118.557,-198.217 104.779,-186.45\"/>\r\n",
       "<polygon fill=\"black\" stroke=\"black\" points=\"106.714,-183.5 96.8365,-179.667 102.168,-188.823 106.714,-183.5\"/>\r\n",
       "</g>\r\n",
       "<!-- 4 -->\r\n",
       "<g id=\"node5\" class=\"node\"><title>4</title>\r\n",
       "<path fill=\"#3de684\" stroke=\"black\" d=\"M243.5,-187C243.5,-187 146.5,-187 146.5,-187 140.5,-187 134.5,-181 134.5,-175 134.5,-175 134.5,-116 134.5,-116 134.5,-110 140.5,-104 146.5,-104 146.5,-104 243.5,-104 243.5,-104 249.5,-104 255.5,-110 255.5,-116 255.5,-116 255.5,-175 255.5,-175 255.5,-181 249.5,-187 243.5,-187\"/>\r\n",
       "<text text-anchor=\"middle\" x=\"195\" y=\"-171.8\" font-family=\"Helvetica,sans-Serif\" font-size=\"14.00\">类黄酮 &lt;= 0.535</text>\r\n",
       "<text text-anchor=\"middle\" x=\"195\" y=\"-156.8\" font-family=\"Helvetica,sans-Serif\" font-size=\"14.00\">gini = 0.042</text>\r\n",
       "<text text-anchor=\"middle\" x=\"195\" y=\"-141.8\" font-family=\"Helvetica,sans-Serif\" font-size=\"14.00\">samples = 47</text>\r\n",
       "<text text-anchor=\"middle\" x=\"195\" y=\"-126.8\" font-family=\"Helvetica,sans-Serif\" font-size=\"14.00\">value = [0, 46, 1]</text>\r\n",
       "<text text-anchor=\"middle\" x=\"195\" y=\"-111.8\" font-family=\"Helvetica,sans-Serif\" font-size=\"14.00\">class = 雪莉</text>\r\n",
       "</g>\r\n",
       "<!-- 2&#45;&gt;4 -->\r\n",
       "<g id=\"edge4\" class=\"edge\"><title>2&#45;&gt;4</title>\r\n",
       "<path fill=\"none\" stroke=\"black\" d=\"M195,-222.907C195,-214.649 195,-205.864 195,-197.302\"/>\r\n",
       "<polygon fill=\"black\" stroke=\"black\" points=\"198.5,-197.021 195,-187.021 191.5,-197.021 198.5,-197.021\"/>\r\n",
       "</g>\r\n",
       "<!-- 5 -->\r\n",
       "<g id=\"node6\" class=\"node\"><title>5</title>\r\n",
       "<path fill=\"#8139e5\" stroke=\"black\" d=\"M173,-68C173,-68 81,-68 81,-68 75,-68 69,-62 69,-56 69,-56 69,-12 69,-12 69,-6 75,-0 81,-0 81,-0 173,-0 173,-0 179,-0 185,-6 185,-12 185,-12 185,-56 185,-56 185,-62 179,-68 173,-68\"/>\r\n",
       "<text text-anchor=\"middle\" x=\"127\" y=\"-52.8\" font-family=\"Helvetica,sans-Serif\" font-size=\"14.00\">gini = 0.0</text>\r\n",
       "<text text-anchor=\"middle\" x=\"127\" y=\"-37.8\" font-family=\"Helvetica,sans-Serif\" font-size=\"14.00\">samples = 1</text>\r\n",
       "<text text-anchor=\"middle\" x=\"127\" y=\"-22.8\" font-family=\"Helvetica,sans-Serif\" font-size=\"14.00\">value = [0, 0, 1]</text>\r\n",
       "<text text-anchor=\"middle\" x=\"127\" y=\"-7.8\" font-family=\"Helvetica,sans-Serif\" font-size=\"14.00\">class = 贝尔摩德</text>\r\n",
       "</g>\r\n",
       "<!-- 4&#45;&gt;5 -->\r\n",
       "<g id=\"edge5\" class=\"edge\"><title>4&#45;&gt;5</title>\r\n",
       "<path fill=\"none\" stroke=\"black\" d=\"M169.679,-103.726C164.242,-94.9703 158.487,-85.7032 153.023,-76.9051\"/>\r\n",
       "<polygon fill=\"black\" stroke=\"black\" points=\"155.928,-74.9484 147.679,-68.2996 149.981,-78.6413 155.928,-74.9484\"/>\r\n",
       "</g>\r\n",
       "<!-- 6 -->\r\n",
       "<g id=\"node7\" class=\"node\"><title>6</title>\r\n",
       "<path fill=\"#39e581\" stroke=\"black\" d=\"M312.5,-68C312.5,-68 215.5,-68 215.5,-68 209.5,-68 203.5,-62 203.5,-56 203.5,-56 203.5,-12 203.5,-12 203.5,-6 209.5,-0 215.5,-0 215.5,-0 312.5,-0 312.5,-0 318.5,-0 324.5,-6 324.5,-12 324.5,-12 324.5,-56 324.5,-56 324.5,-62 318.5,-68 312.5,-68\"/>\r\n",
       "<text text-anchor=\"middle\" x=\"264\" y=\"-52.8\" font-family=\"Helvetica,sans-Serif\" font-size=\"14.00\">gini = 0.0</text>\r\n",
       "<text text-anchor=\"middle\" x=\"264\" y=\"-37.8\" font-family=\"Helvetica,sans-Serif\" font-size=\"14.00\">samples = 46</text>\r\n",
       "<text text-anchor=\"middle\" x=\"264\" y=\"-22.8\" font-family=\"Helvetica,sans-Serif\" font-size=\"14.00\">value = [0, 46, 0]</text>\r\n",
       "<text text-anchor=\"middle\" x=\"264\" y=\"-7.8\" font-family=\"Helvetica,sans-Serif\" font-size=\"14.00\">class = 雪莉</text>\r\n",
       "</g>\r\n",
       "<!-- 4&#45;&gt;6 -->\r\n",
       "<g id=\"edge6\" class=\"edge\"><title>4&#45;&gt;6</title>\r\n",
       "<path fill=\"none\" stroke=\"black\" d=\"M220.693,-103.726C226.211,-94.9703 232.05,-85.7032 237.594,-76.9051\"/>\r\n",
       "<polygon fill=\"black\" stroke=\"black\" points=\"240.647,-78.6259 243.017,-68.2996 234.724,-74.8941 240.647,-78.6259\"/>\r\n",
       "</g>\r\n",
       "<!-- 8 -->\r\n",
       "<g id=\"node9\" class=\"node\"><title>8</title>\r\n",
       "<path fill=\"#8139e5\" stroke=\"black\" d=\"M382.5,-179.5C382.5,-179.5 285.5,-179.5 285.5,-179.5 279.5,-179.5 273.5,-173.5 273.5,-167.5 273.5,-167.5 273.5,-123.5 273.5,-123.5 273.5,-117.5 279.5,-111.5 285.5,-111.5 285.5,-111.5 382.5,-111.5 382.5,-111.5 388.5,-111.5 394.5,-117.5 394.5,-123.5 394.5,-123.5 394.5,-167.5 394.5,-167.5 394.5,-173.5 388.5,-179.5 382.5,-179.5\"/>\r\n",
       "<text text-anchor=\"middle\" x=\"334\" y=\"-164.3\" font-family=\"Helvetica,sans-Serif\" font-size=\"14.00\">gini = 0.0</text>\r\n",
       "<text text-anchor=\"middle\" x=\"334\" y=\"-149.3\" font-family=\"Helvetica,sans-Serif\" font-size=\"14.00\">samples = 27</text>\r\n",
       "<text text-anchor=\"middle\" x=\"334\" y=\"-134.3\" font-family=\"Helvetica,sans-Serif\" font-size=\"14.00\">value = [0, 0, 27]</text>\r\n",
       "<text text-anchor=\"middle\" x=\"334\" y=\"-119.3\" font-family=\"Helvetica,sans-Serif\" font-size=\"14.00\">class = 贝尔摩德</text>\r\n",
       "</g>\r\n",
       "<!-- 7&#45;&gt;8 -->\r\n",
       "<g id=\"edge8\" class=\"edge\"><title>7&#45;&gt;8</title>\r\n",
       "<path fill=\"none\" stroke=\"black\" d=\"M399.305,-222.907C389.497,-211.432 378.819,-198.938 368.993,-187.442\"/>\r\n",
       "<polygon fill=\"black\" stroke=\"black\" points=\"371.506,-184.995 362.348,-179.667 366.184,-189.543 371.506,-184.995\"/>\r\n",
       "</g>\r\n",
       "<!-- 9 -->\r\n",
       "<g id=\"node10\" class=\"node\"><title>9</title>\r\n",
       "<path fill=\"#9cf2c0\" stroke=\"black\" d=\"M513.5,-187C513.5,-187 424.5,-187 424.5,-187 418.5,-187 412.5,-181 412.5,-175 412.5,-175 412.5,-116 412.5,-116 412.5,-110 418.5,-104 424.5,-104 424.5,-104 513.5,-104 513.5,-104 519.5,-104 525.5,-110 525.5,-116 525.5,-116 525.5,-175 525.5,-175 525.5,-181 519.5,-187 513.5,-187\"/>\r\n",
       "<text text-anchor=\"middle\" x=\"469\" y=\"-171.8\" font-family=\"Helvetica,sans-Serif\" font-size=\"14.00\">镁 &lt;= 121.0</text>\r\n",
       "<text text-anchor=\"middle\" x=\"469\" y=\"-156.8\" font-family=\"Helvetica,sans-Serif\" font-size=\"14.00\">gini = 0.444</text>\r\n",
       "<text text-anchor=\"middle\" x=\"469\" y=\"-141.8\" font-family=\"Helvetica,sans-Serif\" font-size=\"14.00\">samples = 3</text>\r\n",
       "<text text-anchor=\"middle\" x=\"469\" y=\"-126.8\" font-family=\"Helvetica,sans-Serif\" font-size=\"14.00\">value = [0, 2, 1]</text>\r\n",
       "<text text-anchor=\"middle\" x=\"469\" y=\"-111.8\" font-family=\"Helvetica,sans-Serif\" font-size=\"14.00\">class = 雪莉</text>\r\n",
       "</g>\r\n",
       "<!-- 7&#45;&gt;9 -->\r\n",
       "<g id=\"edge9\" class=\"edge\"><title>7&#45;&gt;9</title>\r\n",
       "<path fill=\"none\" stroke=\"black\" d=\"M446.143,-222.907C448.668,-214.468 451.357,-205.477 453.971,-196.738\"/>\r\n",
       "<polygon fill=\"black\" stroke=\"black\" points=\"457.366,-197.604 456.878,-187.021 450.659,-195.598 457.366,-197.604\"/>\r\n",
       "</g>\r\n",
       "<!-- 10 -->\r\n",
       "<g id=\"node11\" class=\"node\"><title>10</title>\r\n",
       "<path fill=\"#39e581\" stroke=\"black\" d=\"M446.5,-68C446.5,-68 357.5,-68 357.5,-68 351.5,-68 345.5,-62 345.5,-56 345.5,-56 345.5,-12 345.5,-12 345.5,-6 351.5,-0 357.5,-0 357.5,-0 446.5,-0 446.5,-0 452.5,-0 458.5,-6 458.5,-12 458.5,-12 458.5,-56 458.5,-56 458.5,-62 452.5,-68 446.5,-68\"/>\r\n",
       "<text text-anchor=\"middle\" x=\"402\" y=\"-52.8\" font-family=\"Helvetica,sans-Serif\" font-size=\"14.00\">gini = 0.0</text>\r\n",
       "<text text-anchor=\"middle\" x=\"402\" y=\"-37.8\" font-family=\"Helvetica,sans-Serif\" font-size=\"14.00\">samples = 2</text>\r\n",
       "<text text-anchor=\"middle\" x=\"402\" y=\"-22.8\" font-family=\"Helvetica,sans-Serif\" font-size=\"14.00\">value = [0, 2, 0]</text>\r\n",
       "<text text-anchor=\"middle\" x=\"402\" y=\"-7.8\" font-family=\"Helvetica,sans-Serif\" font-size=\"14.00\">class = 雪莉</text>\r\n",
       "</g>\r\n",
       "<!-- 9&#45;&gt;10 -->\r\n",
       "<g id=\"edge10\" class=\"edge\"><title>9&#45;&gt;10</title>\r\n",
       "<path fill=\"none\" stroke=\"black\" d=\"M444.052,-103.726C438.694,-94.9703 433.024,-85.7032 427.641,-76.9051\"/>\r\n",
       "<polygon fill=\"black\" stroke=\"black\" points=\"430.58,-75.0028 422.375,-68.2996 424.609,-78.6563 430.58,-75.0028\"/>\r\n",
       "</g>\r\n",
       "<!-- 11 -->\r\n",
       "<g id=\"node12\" class=\"node\"><title>11</title>\r\n",
       "<path fill=\"#8139e5\" stroke=\"black\" d=\"M581,-68C581,-68 489,-68 489,-68 483,-68 477,-62 477,-56 477,-56 477,-12 477,-12 477,-6 483,-0 489,-0 489,-0 581,-0 581,-0 587,-0 593,-6 593,-12 593,-12 593,-56 593,-56 593,-62 587,-68 581,-68\"/>\r\n",
       "<text text-anchor=\"middle\" x=\"535\" y=\"-52.8\" font-family=\"Helvetica,sans-Serif\" font-size=\"14.00\">gini = 0.0</text>\r\n",
       "<text text-anchor=\"middle\" x=\"535\" y=\"-37.8\" font-family=\"Helvetica,sans-Serif\" font-size=\"14.00\">samples = 1</text>\r\n",
       "<text text-anchor=\"middle\" x=\"535\" y=\"-22.8\" font-family=\"Helvetica,sans-Serif\" font-size=\"14.00\">value = [0, 0, 1]</text>\r\n",
       "<text text-anchor=\"middle\" x=\"535\" y=\"-7.8\" font-family=\"Helvetica,sans-Serif\" font-size=\"14.00\">class = 贝尔摩德</text>\r\n",
       "</g>\r\n",
       "<!-- 9&#45;&gt;11 -->\r\n",
       "<g id=\"edge11\" class=\"edge\"><title>9&#45;&gt;11</title>\r\n",
       "<path fill=\"none\" stroke=\"black\" d=\"M493.576,-103.726C498.854,-94.9703 504.439,-85.7032 509.742,-76.9051\"/>\r\n",
       "<polygon fill=\"black\" stroke=\"black\" points=\"512.764,-78.671 514.929,-68.2996 506.769,-75.0574 512.764,-78.671\"/>\r\n",
       "</g>\r\n",
       "<!-- 13 -->\r\n",
       "<g id=\"node14\" class=\"node\"><title>13</title>\r\n",
       "<path fill=\"#c09cf2\" stroke=\"black\" d=\"M734.5,-306C734.5,-306 539.5,-306 539.5,-306 533.5,-306 527.5,-300 527.5,-294 527.5,-294 527.5,-235 527.5,-235 527.5,-229 533.5,-223 539.5,-223 539.5,-223 734.5,-223 734.5,-223 740.5,-223 746.5,-229 746.5,-235 746.5,-235 746.5,-294 746.5,-294 746.5,-300 740.5,-306 734.5,-306\"/>\r\n",
       "<text text-anchor=\"middle\" x=\"637\" y=\"-290.8\" font-family=\"Helvetica,sans-Serif\" font-size=\"14.00\">od280/od315稀释葡萄酒 &lt;= 2.43</text>\r\n",
       "<text text-anchor=\"middle\" x=\"637\" y=\"-275.8\" font-family=\"Helvetica,sans-Serif\" font-size=\"14.00\">gini = 0.444</text>\r\n",
       "<text text-anchor=\"middle\" x=\"637\" y=\"-260.8\" font-family=\"Helvetica,sans-Serif\" font-size=\"14.00\">samples = 3</text>\r\n",
       "<text text-anchor=\"middle\" x=\"637\" y=\"-245.8\" font-family=\"Helvetica,sans-Serif\" font-size=\"14.00\">value = [0, 1, 2]</text>\r\n",
       "<text text-anchor=\"middle\" x=\"637\" y=\"-230.8\" font-family=\"Helvetica,sans-Serif\" font-size=\"14.00\">class = 贝尔摩德</text>\r\n",
       "</g>\r\n",
       "<!-- 12&#45;&gt;13 -->\r\n",
       "<g id=\"edge13\" class=\"edge\"><title>12&#45;&gt;13</title>\r\n",
       "<path fill=\"none\" stroke=\"black\" d=\"M637,-341.907C637,-333.649 637,-324.864 637,-316.302\"/>\r\n",
       "<polygon fill=\"black\" stroke=\"black\" points=\"640.5,-316.021 637,-306.021 633.5,-316.021 640.5,-316.021\"/>\r\n",
       "</g>\r\n",
       "<!-- 16 -->\r\n",
       "<g id=\"node17\" class=\"node\"><title>16</title>\r\n",
       "<path fill=\"#e6843e\" stroke=\"black\" d=\"M918.5,-306C918.5,-306 821.5,-306 821.5,-306 815.5,-306 809.5,-300 809.5,-294 809.5,-294 809.5,-235 809.5,-235 809.5,-229 815.5,-223 821.5,-223 821.5,-223 918.5,-223 918.5,-223 924.5,-223 930.5,-229 930.5,-235 930.5,-235 930.5,-294 930.5,-294 930.5,-300 924.5,-306 918.5,-306\"/>\r\n",
       "<text text-anchor=\"middle\" x=\"870\" y=\"-290.8\" font-family=\"Helvetica,sans-Serif\" font-size=\"14.00\">灰的碱性 &lt;= 27.5</text>\r\n",
       "<text text-anchor=\"middle\" x=\"870\" y=\"-275.8\" font-family=\"Helvetica,sans-Serif\" font-size=\"14.00\">gini = 0.046</text>\r\n",
       "<text text-anchor=\"middle\" x=\"870\" y=\"-260.8\" font-family=\"Helvetica,sans-Serif\" font-size=\"14.00\">samples = 42</text>\r\n",
       "<text text-anchor=\"middle\" x=\"870\" y=\"-245.8\" font-family=\"Helvetica,sans-Serif\" font-size=\"14.00\">value = [41, 1, 0]</text>\r\n",
       "<text text-anchor=\"middle\" x=\"870\" y=\"-230.8\" font-family=\"Helvetica,sans-Serif\" font-size=\"14.00\">class = 琴酒</text>\r\n",
       "</g>\r\n",
       "<!-- 12&#45;&gt;16 -->\r\n",
       "<g id=\"edge16\" class=\"edge\"><title>12&#45;&gt;16</title>\r\n",
       "<path fill=\"none\" stroke=\"black\" d=\"M697.61,-352.065C729.039,-336.283 767.579,-316.93 800.243,-300.528\"/>\r\n",
       "<polygon fill=\"black\" stroke=\"black\" points=\"801.923,-303.601 809.289,-295.986 798.782,-297.345 801.923,-303.601\"/>\r\n",
       "</g>\r\n",
       "<!-- 14 -->\r\n",
       "<g id=\"node15\" class=\"node\"><title>14</title>\r\n",
       "<path fill=\"#8139e5\" stroke=\"black\" d=\"M648,-179.5C648,-179.5 556,-179.5 556,-179.5 550,-179.5 544,-173.5 544,-167.5 544,-167.5 544,-123.5 544,-123.5 544,-117.5 550,-111.5 556,-111.5 556,-111.5 648,-111.5 648,-111.5 654,-111.5 660,-117.5 660,-123.5 660,-123.5 660,-167.5 660,-167.5 660,-173.5 654,-179.5 648,-179.5\"/>\r\n",
       "<text text-anchor=\"middle\" x=\"602\" y=\"-164.3\" font-family=\"Helvetica,sans-Serif\" font-size=\"14.00\">gini = 0.0</text>\r\n",
       "<text text-anchor=\"middle\" x=\"602\" y=\"-149.3\" font-family=\"Helvetica,sans-Serif\" font-size=\"14.00\">samples = 2</text>\r\n",
       "<text text-anchor=\"middle\" x=\"602\" y=\"-134.3\" font-family=\"Helvetica,sans-Serif\" font-size=\"14.00\">value = [0, 0, 2]</text>\r\n",
       "<text text-anchor=\"middle\" x=\"602\" y=\"-119.3\" font-family=\"Helvetica,sans-Serif\" font-size=\"14.00\">class = 贝尔摩德</text>\r\n",
       "</g>\r\n",
       "<!-- 13&#45;&gt;14 -->\r\n",
       "<g id=\"edge14\" class=\"edge\"><title>13&#45;&gt;14</title>\r\n",
       "<path fill=\"none\" stroke=\"black\" d=\"M624.857,-222.907C621.622,-212.094 618.117,-200.376 614.846,-189.441\"/>\r\n",
       "<polygon fill=\"black\" stroke=\"black\" points=\"618.141,-188.244 611.922,-179.667 611.435,-190.251 618.141,-188.244\"/>\r\n",
       "</g>\r\n",
       "<!-- 15 -->\r\n",
       "<g id=\"node16\" class=\"node\"><title>15</title>\r\n",
       "<path fill=\"#39e581\" stroke=\"black\" d=\"M779.5,-179.5C779.5,-179.5 690.5,-179.5 690.5,-179.5 684.5,-179.5 678.5,-173.5 678.5,-167.5 678.5,-167.5 678.5,-123.5 678.5,-123.5 678.5,-117.5 684.5,-111.5 690.5,-111.5 690.5,-111.5 779.5,-111.5 779.5,-111.5 785.5,-111.5 791.5,-117.5 791.5,-123.5 791.5,-123.5 791.5,-167.5 791.5,-167.5 791.5,-173.5 785.5,-179.5 779.5,-179.5\"/>\r\n",
       "<text text-anchor=\"middle\" x=\"735\" y=\"-164.3\" font-family=\"Helvetica,sans-Serif\" font-size=\"14.00\">gini = 0.0</text>\r\n",
       "<text text-anchor=\"middle\" x=\"735\" y=\"-149.3\" font-family=\"Helvetica,sans-Serif\" font-size=\"14.00\">samples = 1</text>\r\n",
       "<text text-anchor=\"middle\" x=\"735\" y=\"-134.3\" font-family=\"Helvetica,sans-Serif\" font-size=\"14.00\">value = [0, 1, 0]</text>\r\n",
       "<text text-anchor=\"middle\" x=\"735\" y=\"-119.3\" font-family=\"Helvetica,sans-Serif\" font-size=\"14.00\">class = 雪莉</text>\r\n",
       "</g>\r\n",
       "<!-- 13&#45;&gt;15 -->\r\n",
       "<g id=\"edge15\" class=\"edge\"><title>13&#45;&gt;15</title>\r\n",
       "<path fill=\"none\" stroke=\"black\" d=\"M671.001,-222.907C680.613,-211.432 691.077,-198.938 700.707,-187.442\"/>\r\n",
       "<polygon fill=\"black\" stroke=\"black\" points=\"703.481,-189.58 707.219,-179.667 698.115,-185.086 703.481,-189.58\"/>\r\n",
       "</g>\r\n",
       "<!-- 17 -->\r\n",
       "<g id=\"node18\" class=\"node\"><title>17</title>\r\n",
       "<path fill=\"#e58139\" stroke=\"black\" d=\"M918.5,-179.5C918.5,-179.5 821.5,-179.5 821.5,-179.5 815.5,-179.5 809.5,-173.5 809.5,-167.5 809.5,-167.5 809.5,-123.5 809.5,-123.5 809.5,-117.5 815.5,-111.5 821.5,-111.5 821.5,-111.5 918.5,-111.5 918.5,-111.5 924.5,-111.5 930.5,-117.5 930.5,-123.5 930.5,-123.5 930.5,-167.5 930.5,-167.5 930.5,-173.5 924.5,-179.5 918.5,-179.5\"/>\r\n",
       "<text text-anchor=\"middle\" x=\"870\" y=\"-164.3\" font-family=\"Helvetica,sans-Serif\" font-size=\"14.00\">gini = 0.0</text>\r\n",
       "<text text-anchor=\"middle\" x=\"870\" y=\"-149.3\" font-family=\"Helvetica,sans-Serif\" font-size=\"14.00\">samples = 41</text>\r\n",
       "<text text-anchor=\"middle\" x=\"870\" y=\"-134.3\" font-family=\"Helvetica,sans-Serif\" font-size=\"14.00\">value = [41, 0, 0]</text>\r\n",
       "<text text-anchor=\"middle\" x=\"870\" y=\"-119.3\" font-family=\"Helvetica,sans-Serif\" font-size=\"14.00\">class = 琴酒</text>\r\n",
       "</g>\r\n",
       "<!-- 16&#45;&gt;17 -->\r\n",
       "<g id=\"edge17\" class=\"edge\"><title>16&#45;&gt;17</title>\r\n",
       "<path fill=\"none\" stroke=\"black\" d=\"M870,-222.907C870,-212.204 870,-200.615 870,-189.776\"/>\r\n",
       "<polygon fill=\"black\" stroke=\"black\" points=\"873.5,-189.667 870,-179.667 866.5,-189.667 873.5,-189.667\"/>\r\n",
       "</g>\r\n",
       "<!-- 18 -->\r\n",
       "<g id=\"node19\" class=\"node\"><title>18</title>\r\n",
       "<path fill=\"#39e581\" stroke=\"black\" d=\"M1049.5,-179.5C1049.5,-179.5 960.5,-179.5 960.5,-179.5 954.5,-179.5 948.5,-173.5 948.5,-167.5 948.5,-167.5 948.5,-123.5 948.5,-123.5 948.5,-117.5 954.5,-111.5 960.5,-111.5 960.5,-111.5 1049.5,-111.5 1049.5,-111.5 1055.5,-111.5 1061.5,-117.5 1061.5,-123.5 1061.5,-123.5 1061.5,-167.5 1061.5,-167.5 1061.5,-173.5 1055.5,-179.5 1049.5,-179.5\"/>\r\n",
       "<text text-anchor=\"middle\" x=\"1005\" y=\"-164.3\" font-family=\"Helvetica,sans-Serif\" font-size=\"14.00\">gini = 0.0</text>\r\n",
       "<text text-anchor=\"middle\" x=\"1005\" y=\"-149.3\" font-family=\"Helvetica,sans-Serif\" font-size=\"14.00\">samples = 1</text>\r\n",
       "<text text-anchor=\"middle\" x=\"1005\" y=\"-134.3\" font-family=\"Helvetica,sans-Serif\" font-size=\"14.00\">value = [0, 1, 0]</text>\r\n",
       "<text text-anchor=\"middle\" x=\"1005\" y=\"-119.3\" font-family=\"Helvetica,sans-Serif\" font-size=\"14.00\">class = 雪莉</text>\r\n",
       "</g>\r\n",
       "<!-- 16&#45;&gt;18 -->\r\n",
       "<g id=\"edge18\" class=\"edge\"><title>16&#45;&gt;18</title>\r\n",
       "<path fill=\"none\" stroke=\"black\" d=\"M916.838,-222.907C930.461,-211.101 945.327,-198.217 958.904,-186.45\"/>\r\n",
       "<polygon fill=\"black\" stroke=\"black\" points=\"961.466,-188.861 966.73,-179.667 956.881,-183.571 961.466,-188.861\"/>\r\n",
       "</g>\r\n",
       "</g>\r\n",
       "</svg>\r\n"
      ],
      "text/plain": [
       "<graphviz.files.Source at 0x146e3658208>"
      ]
     },
     "execution_count": 11,
     "metadata": {},
     "output_type": "execute_result"
    }
   ],
   "source": [
    "feature_name = ['酒精','苹果酸','灰','灰的碱性','镁','总酚','类黄酮','非黄烷类酚类','花青素','颜色强度','色调','od280/od315稀释葡萄酒','脯氨酸']\n",
    "import graphviz\n",
    "dot_data = tree.export_graphviz(clf  # 已经训练好的模型\n",
    "                                ,out_file = None\n",
    "                                ,feature_names= feature_name\n",
    "                                ,class_names=[\"琴酒\",\"雪莉\",\"贝尔摩德\"]\n",
    "                                ,filled=True\n",
    "                                ,rounded=True\n",
    "                                )\n",
    "graph = graphviz.Source(dot_data)\n",
    "graph"
   ]
  },
  {
   "cell_type": "markdown",
   "metadata": {},
   "source": [
    "#### 6.探索决策树"
   ]
  },
  {
   "cell_type": "markdown",
   "metadata": {},
   "source": [
    "**各个参数的重要性**"
   ]
  },
  {
   "cell_type": "code",
   "execution_count": 12,
   "metadata": {},
   "outputs": [
    {
     "data": {
      "text/plain": [
       "array([0.        , 0.        , 0.        , 0.02395559, 0.01635992,\n",
       "       0.        , 0.10476563, 0.        , 0.        , 0.34729938,\n",
       "       0.        , 0.06145447, 0.446165  ])"
      ]
     },
     "execution_count": 12,
     "metadata": {},
     "output_type": "execute_result"
    }
   ],
   "source": [
    "clf.feature_importances_  "
   ]
  },
  {
   "cell_type": "code",
   "execution_count": 13,
   "metadata": {},
   "outputs": [
    {
     "data": {
      "text/html": [
       "<div>\n",
       "<style scoped>\n",
       "    .dataframe tbody tr th:only-of-type {\n",
       "        vertical-align: middle;\n",
       "    }\n",
       "\n",
       "    .dataframe tbody tr th {\n",
       "        vertical-align: top;\n",
       "    }\n",
       "\n",
       "    .dataframe thead th {\n",
       "        text-align: right;\n",
       "    }\n",
       "</style>\n",
       "<table border=\"1\" class=\"dataframe\">\n",
       "  <thead>\n",
       "    <tr style=\"text-align: right;\">\n",
       "      <th></th>\n",
       "      <th>各个的参数重要性</th>\n",
       "    </tr>\n",
       "  </thead>\n",
       "  <tbody>\n",
       "    <tr>\n",
       "      <th>酒精</th>\n",
       "      <td>0.000000</td>\n",
       "    </tr>\n",
       "    <tr>\n",
       "      <th>苹果酸</th>\n",
       "      <td>0.000000</td>\n",
       "    </tr>\n",
       "    <tr>\n",
       "      <th>灰</th>\n",
       "      <td>0.000000</td>\n",
       "    </tr>\n",
       "    <tr>\n",
       "      <th>灰的碱性</th>\n",
       "      <td>0.023956</td>\n",
       "    </tr>\n",
       "    <tr>\n",
       "      <th>镁</th>\n",
       "      <td>0.016360</td>\n",
       "    </tr>\n",
       "    <tr>\n",
       "      <th>总酚</th>\n",
       "      <td>0.000000</td>\n",
       "    </tr>\n",
       "    <tr>\n",
       "      <th>类黄酮</th>\n",
       "      <td>0.104766</td>\n",
       "    </tr>\n",
       "    <tr>\n",
       "      <th>非黄烷类酚类</th>\n",
       "      <td>0.000000</td>\n",
       "    </tr>\n",
       "    <tr>\n",
       "      <th>花青素</th>\n",
       "      <td>0.000000</td>\n",
       "    </tr>\n",
       "    <tr>\n",
       "      <th>颜色强度</th>\n",
       "      <td>0.347299</td>\n",
       "    </tr>\n",
       "    <tr>\n",
       "      <th>色调</th>\n",
       "      <td>0.000000</td>\n",
       "    </tr>\n",
       "    <tr>\n",
       "      <th>od280/od315稀释葡萄酒</th>\n",
       "      <td>0.061454</td>\n",
       "    </tr>\n",
       "    <tr>\n",
       "      <th>脯氨酸</th>\n",
       "      <td>0.446165</td>\n",
       "    </tr>\n",
       "  </tbody>\n",
       "</table>\n",
       "</div>"
      ],
      "text/plain": [
       "                  各个的参数重要性\n",
       "酒精                0.000000\n",
       "苹果酸               0.000000\n",
       "灰                 0.000000\n",
       "灰的碱性              0.023956\n",
       "镁                 0.016360\n",
       "总酚                0.000000\n",
       "类黄酮               0.104766\n",
       "非黄烷类酚类            0.000000\n",
       "花青素               0.000000\n",
       "颜色强度              0.347299\n",
       "色调                0.000000\n",
       "od280/od315稀释葡萄酒  0.061454\n",
       "脯氨酸               0.446165"
      ]
     },
     "execution_count": 13,
     "metadata": {},
     "output_type": "execute_result"
    }
   ],
   "source": [
    "data = pd.DataFrame(clf.feature_importances_\n",
    "                    ,index=['酒精','苹果酸','灰','灰的碱性','镁','总酚','类黄酮','非黄烷类酚类','花青素','颜色强度','色调','od280/od315稀释葡萄酒','脯氨酸']\n",
    "                    ,columns=['各个的参数重要性']\n",
    "                   )\n",
    "data"
   ]
  },
  {
   "cell_type": "markdown",
   "metadata": {},
   "source": [
    "**zip()函数将可迭代值一一配对返回生成元组的列表**"
   ]
  },
  {
   "cell_type": "code",
   "execution_count": 14,
   "metadata": {},
   "outputs": [
    {
     "data": {
      "text/plain": [
       "[('酒精', 0.0),\n",
       " ('苹果酸', 0.0),\n",
       " ('灰', 0.0),\n",
       " ('灰的碱性', 0.023955594507741734),\n",
       " ('镁', 0.016359918200408996),\n",
       " ('总酚', 0.0),\n",
       " ('类黄酮', 0.10476563422654016),\n",
       " ('非黄烷类酚类', 0.0),\n",
       " ('花青素', 0.0),\n",
       " ('颜色强度', 0.3472993825937613),\n",
       " ('色调', 0.0),\n",
       " ('od280/od315稀释葡萄酒', 0.06145447344843169),\n",
       " ('脯氨酸', 0.4461649970231162)]"
      ]
     },
     "execution_count": 14,
     "metadata": {},
     "output_type": "execute_result"
    }
   ],
   "source": [
    "[*zip(feature_name,clf.feature_importances_)]"
   ]
  },
  {
   "cell_type": "markdown",
   "metadata": {},
   "source": [
    "### 参数调优"
   ]
  },
  {
   "cell_type": "markdown",
   "metadata": {},
   "source": [
    "#### 1.随机参数"
   ]
  },
  {
   "cell_type": "markdown",
   "metadata": {},
   "source": [
    "**random_state**，用来设置分支中随机参数的模式，在高维度时随机性会表现得更加明显"
   ]
  },
  {
   "cell_type": "code",
   "execution_count": 15,
   "metadata": {},
   "outputs": [
    {
     "data": {
      "text/plain": [
       "0.9074074074074074"
      ]
     },
     "execution_count": 15,
     "metadata": {},
     "output_type": "execute_result"
    }
   ],
   "source": [
    "clf = tree.DecisionTreeClassifier(random_state=30)\n",
    "clf = clf.fit(Xtrain,ytrain)\n",
    "score = clf.score(Xtest,ytest)\n",
    "score"
   ]
  },
  {
   "cell_type": "markdown",
   "metadata": {},
   "source": [
    "**splitter**，有两种参数**best**和**random**，即选择更重要的特征进行分支，还是随机用随机特征进行分支,选择random参数能有效的防止过拟合现象"
   ]
  },
  {
   "cell_type": "code",
   "execution_count": 16,
   "metadata": {},
   "outputs": [
    {
     "data": {
      "text/plain": [
       "0.9074074074074074"
      ]
     },
     "execution_count": 16,
     "metadata": {},
     "output_type": "execute_result"
    }
   ],
   "source": [
    "clf = tree.DecisionTreeClassifier(criterion='entropy'\n",
    "                                 ,random_state=30\n",
    "                                 ,splitter='best')\n",
    "clf = clf.fit(Xtrain,ytrain)\n",
    "score = clf.score(Xtest,ytest)\n",
    "score"
   ]
  },
  {
   "cell_type": "code",
   "execution_count": 17,
   "metadata": {},
   "outputs": [
    {
     "data": {
      "image/svg+xml": [
       "<?xml version=\"1.0\" encoding=\"UTF-8\" standalone=\"no\"?>\r\n",
       "<!DOCTYPE svg PUBLIC \"-//W3C//DTD SVG 1.1//EN\"\r\n",
       " \"http://www.w3.org/Graphics/SVG/1.1/DTD/svg11.dtd\">\r\n",
       "<!-- Generated by graphviz version 2.38.0 (20140413.2041)\r\n",
       " -->\r\n",
       "<!-- Title: Tree Pages: 1 -->\r\n",
       "<svg width=\"829pt\" height=\"552pt\"\r\n",
       " viewBox=\"0.00 0.00 829.00 552.00\" xmlns=\"http://www.w3.org/2000/svg\" xmlns:xlink=\"http://www.w3.org/1999/xlink\">\r\n",
       "<g id=\"graph0\" class=\"graph\" transform=\"scale(1 1) rotate(0) translate(4 548)\">\r\n",
       "<title>Tree</title>\r\n",
       "<polygon fill=\"white\" stroke=\"none\" points=\"-4,4 -4,-548 825,-548 825,4 -4,4\"/>\r\n",
       "<!-- 0 -->\r\n",
       "<g id=\"node1\" class=\"node\"><title>0</title>\r\n",
       "<path fill=\"#eafcf1\" stroke=\"black\" d=\"M343,-544C343,-544 230,-544 230,-544 224,-544 218,-538 218,-532 218,-532 218,-473 218,-473 218,-467 224,-461 230,-461 230,-461 343,-461 343,-461 349,-461 355,-467 355,-473 355,-473 355,-532 355,-532 355,-538 349,-544 343,-544\"/>\r\n",
       "<text text-anchor=\"middle\" x=\"286.5\" y=\"-528.8\" font-family=\"Helvetica,sans-Serif\" font-size=\"14.00\">脯氨酸 &lt;= 755.0</text>\r\n",
       "<text text-anchor=\"middle\" x=\"286.5\" y=\"-513.8\" font-family=\"Helvetica,sans-Serif\" font-size=\"14.00\">entropy = 1.565</text>\r\n",
       "<text text-anchor=\"middle\" x=\"286.5\" y=\"-498.8\" font-family=\"Helvetica,sans-Serif\" font-size=\"14.00\">samples = 124</text>\r\n",
       "<text text-anchor=\"middle\" x=\"286.5\" y=\"-483.8\" font-family=\"Helvetica,sans-Serif\" font-size=\"14.00\">value = [41, 50, 33]</text>\r\n",
       "<text text-anchor=\"middle\" x=\"286.5\" y=\"-468.8\" font-family=\"Helvetica,sans-Serif\" font-size=\"14.00\">class = 雪莉</text>\r\n",
       "</g>\r\n",
       "<!-- 1 -->\r\n",
       "<g id=\"node2\" class=\"node\"><title>1</title>\r\n",
       "<path fill=\"#b9f6d2\" stroke=\"black\" d=\"M265,-425C265,-425 160,-425 160,-425 154,-425 148,-419 148,-413 148,-413 148,-354 148,-354 148,-348 154,-342 160,-342 160,-342 265,-342 265,-342 271,-342 277,-348 277,-354 277,-354 277,-413 277,-413 277,-419 271,-425 265,-425\"/>\r\n",
       "<text text-anchor=\"middle\" x=\"212.5\" y=\"-409.8\" font-family=\"Helvetica,sans-Serif\" font-size=\"14.00\">颜色强度 &lt;= 3.825</text>\r\n",
       "<text text-anchor=\"middle\" x=\"212.5\" y=\"-394.8\" font-family=\"Helvetica,sans-Serif\" font-size=\"14.00\">entropy = 0.966</text>\r\n",
       "<text text-anchor=\"middle\" x=\"212.5\" y=\"-379.8\" font-family=\"Helvetica,sans-Serif\" font-size=\"14.00\">samples = 79</text>\r\n",
       "<text text-anchor=\"middle\" x=\"212.5\" y=\"-364.8\" font-family=\"Helvetica,sans-Serif\" font-size=\"14.00\">value = [0, 48, 31]</text>\r\n",
       "<text text-anchor=\"middle\" x=\"212.5\" y=\"-349.8\" font-family=\"Helvetica,sans-Serif\" font-size=\"14.00\">class = 雪莉</text>\r\n",
       "</g>\r\n",
       "<!-- 0&#45;&gt;1 -->\r\n",
       "<g id=\"edge1\" class=\"edge\"><title>0&#45;&gt;1</title>\r\n",
       "<path fill=\"none\" stroke=\"black\" d=\"M260.826,-460.907C255.258,-452.105 249.312,-442.703 243.562,-433.612\"/>\r\n",
       "<polygon fill=\"black\" stroke=\"black\" points=\"246.432,-431.601 238.129,-425.021 240.516,-435.343 246.432,-431.601\"/>\r\n",
       "<text text-anchor=\"middle\" x=\"232.638\" y=\"-445.71\" font-family=\"Helvetica,sans-Serif\" font-size=\"14.00\">True</text>\r\n",
       "</g>\r\n",
       "<!-- 8 -->\r\n",
       "<g id=\"node9\" class=\"node\"><title>8</title>\r\n",
       "<path fill=\"#e78d4b\" stroke=\"black\" d=\"M475,-425C475,-425 378,-425 378,-425 372,-425 366,-419 366,-413 366,-413 366,-354 366,-354 366,-348 372,-342 378,-342 378,-342 475,-342 475,-342 481,-342 487,-348 487,-354 487,-354 487,-413 487,-413 487,-419 481,-425 475,-425\"/>\r\n",
       "<text text-anchor=\"middle\" x=\"426.5\" y=\"-409.8\" font-family=\"Helvetica,sans-Serif\" font-size=\"14.00\">类黄酮 &lt;= 2.255</text>\r\n",
       "<text text-anchor=\"middle\" x=\"426.5\" y=\"-394.8\" font-family=\"Helvetica,sans-Serif\" font-size=\"14.00\">entropy = 0.522</text>\r\n",
       "<text text-anchor=\"middle\" x=\"426.5\" y=\"-379.8\" font-family=\"Helvetica,sans-Serif\" font-size=\"14.00\">samples = 45</text>\r\n",
       "<text text-anchor=\"middle\" x=\"426.5\" y=\"-364.8\" font-family=\"Helvetica,sans-Serif\" font-size=\"14.00\">value = [41, 2, 2]</text>\r\n",
       "<text text-anchor=\"middle\" x=\"426.5\" y=\"-349.8\" font-family=\"Helvetica,sans-Serif\" font-size=\"14.00\">class = 琴酒</text>\r\n",
       "</g>\r\n",
       "<!-- 0&#45;&gt;8 -->\r\n",
       "<g id=\"edge8\" class=\"edge\"><title>0&#45;&gt;8</title>\r\n",
       "<path fill=\"none\" stroke=\"black\" d=\"M335.072,-460.907C346.366,-451.469 358.483,-441.343 370.082,-431.649\"/>\r\n",
       "<polygon fill=\"black\" stroke=\"black\" points=\"372.585,-434.119 378.014,-425.021 368.096,-428.748 372.585,-434.119\"/>\r\n",
       "<text text-anchor=\"middle\" x=\"375.785\" y=\"-446.221\" font-family=\"Helvetica,sans-Serif\" font-size=\"14.00\">False</text>\r\n",
       "</g>\r\n",
       "<!-- 2 -->\r\n",
       "<g id=\"node3\" class=\"node\"><title>2</title>\r\n",
       "<path fill=\"#39e581\" stroke=\"black\" d=\"M122,-298.5C122,-298.5 25,-298.5 25,-298.5 19,-298.5 13,-292.5 13,-286.5 13,-286.5 13,-242.5 13,-242.5 13,-236.5 19,-230.5 25,-230.5 25,-230.5 122,-230.5 122,-230.5 128,-230.5 134,-236.5 134,-242.5 134,-242.5 134,-286.5 134,-286.5 134,-292.5 128,-298.5 122,-298.5\"/>\r\n",
       "<text text-anchor=\"middle\" x=\"73.5\" y=\"-283.3\" font-family=\"Helvetica,sans-Serif\" font-size=\"14.00\">entropy = 0.0</text>\r\n",
       "<text text-anchor=\"middle\" x=\"73.5\" y=\"-268.3\" font-family=\"Helvetica,sans-Serif\" font-size=\"14.00\">samples = 41</text>\r\n",
       "<text text-anchor=\"middle\" x=\"73.5\" y=\"-253.3\" font-family=\"Helvetica,sans-Serif\" font-size=\"14.00\">value = [0, 41, 0]</text>\r\n",
       "<text text-anchor=\"middle\" x=\"73.5\" y=\"-238.3\" font-family=\"Helvetica,sans-Serif\" font-size=\"14.00\">class = 雪莉</text>\r\n",
       "</g>\r\n",
       "<!-- 1&#45;&gt;2 -->\r\n",
       "<g id=\"edge2\" class=\"edge\"><title>1&#45;&gt;2</title>\r\n",
       "<path fill=\"none\" stroke=\"black\" d=\"M164.275,-341.907C150.117,-329.99 134.655,-316.976 120.57,-305.12\"/>\r\n",
       "<polygon fill=\"black\" stroke=\"black\" points=\"122.808,-302.429 112.903,-298.667 118.3,-307.784 122.808,-302.429\"/>\r\n",
       "</g>\r\n",
       "<!-- 3 -->\r\n",
       "<g id=\"node4\" class=\"node\"><title>3</title>\r\n",
       "<path fill=\"#9d66eb\" stroke=\"black\" d=\"M261,-306C261,-306 164,-306 164,-306 158,-306 152,-300 152,-294 152,-294 152,-235 152,-235 152,-229 158,-223 164,-223 164,-223 261,-223 261,-223 267,-223 273,-229 273,-235 273,-235 273,-294 273,-294 273,-300 267,-306 261,-306\"/>\r\n",
       "<text text-anchor=\"middle\" x=\"212.5\" y=\"-290.8\" font-family=\"Helvetica,sans-Serif\" font-size=\"14.00\">类黄酮 &lt;= 1.4</text>\r\n",
       "<text text-anchor=\"middle\" x=\"212.5\" y=\"-275.8\" font-family=\"Helvetica,sans-Serif\" font-size=\"14.00\">entropy = 0.689</text>\r\n",
       "<text text-anchor=\"middle\" x=\"212.5\" y=\"-260.8\" font-family=\"Helvetica,sans-Serif\" font-size=\"14.00\">samples = 38</text>\r\n",
       "<text text-anchor=\"middle\" x=\"212.5\" y=\"-245.8\" font-family=\"Helvetica,sans-Serif\" font-size=\"14.00\">value = [0, 7, 31]</text>\r\n",
       "<text text-anchor=\"middle\" x=\"212.5\" y=\"-230.8\" font-family=\"Helvetica,sans-Serif\" font-size=\"14.00\">class = 贝尔摩德</text>\r\n",
       "</g>\r\n",
       "<!-- 1&#45;&gt;3 -->\r\n",
       "<g id=\"edge3\" class=\"edge\"><title>1&#45;&gt;3</title>\r\n",
       "<path fill=\"none\" stroke=\"black\" d=\"M212.5,-341.907C212.5,-333.649 212.5,-324.864 212.5,-316.302\"/>\r\n",
       "<polygon fill=\"black\" stroke=\"black\" points=\"216,-316.021 212.5,-306.021 209,-316.021 216,-316.021\"/>\r\n",
       "</g>\r\n",
       "<!-- 4 -->\r\n",
       "<g id=\"node5\" class=\"node\"><title>4</title>\r\n",
       "<path fill=\"#8139e5\" stroke=\"black\" d=\"M109,-179.5C109,-179.5 12,-179.5 12,-179.5 6,-179.5 0,-173.5 0,-167.5 0,-167.5 0,-123.5 0,-123.5 0,-117.5 6,-111.5 12,-111.5 12,-111.5 109,-111.5 109,-111.5 115,-111.5 121,-117.5 121,-123.5 121,-123.5 121,-167.5 121,-167.5 121,-173.5 115,-179.5 109,-179.5\"/>\r\n",
       "<text text-anchor=\"middle\" x=\"60.5\" y=\"-164.3\" font-family=\"Helvetica,sans-Serif\" font-size=\"14.00\">entropy = 0.0</text>\r\n",
       "<text text-anchor=\"middle\" x=\"60.5\" y=\"-149.3\" font-family=\"Helvetica,sans-Serif\" font-size=\"14.00\">samples = 30</text>\r\n",
       "<text text-anchor=\"middle\" x=\"60.5\" y=\"-134.3\" font-family=\"Helvetica,sans-Serif\" font-size=\"14.00\">value = [0, 0, 30]</text>\r\n",
       "<text text-anchor=\"middle\" x=\"60.5\" y=\"-119.3\" font-family=\"Helvetica,sans-Serif\" font-size=\"14.00\">class = 贝尔摩德</text>\r\n",
       "</g>\r\n",
       "<!-- 3&#45;&gt;4 -->\r\n",
       "<g id=\"edge4\" class=\"edge\"><title>3&#45;&gt;4</title>\r\n",
       "<path fill=\"none\" stroke=\"black\" d=\"M159.764,-222.907C144.139,-210.88 127.061,-197.735 111.545,-185.791\"/>\r\n",
       "<polygon fill=\"black\" stroke=\"black\" points=\"113.648,-182.993 103.589,-179.667 109.378,-188.54 113.648,-182.993\"/>\r\n",
       "</g>\r\n",
       "<!-- 5 -->\r\n",
       "<g id=\"node6\" class=\"node\"><title>5</title>\r\n",
       "<path fill=\"#55e993\" stroke=\"black\" d=\"M273.5,-187C273.5,-187 151.5,-187 151.5,-187 145.5,-187 139.5,-181 139.5,-175 139.5,-175 139.5,-116 139.5,-116 139.5,-110 145.5,-104 151.5,-104 151.5,-104 273.5,-104 273.5,-104 279.5,-104 285.5,-110 285.5,-116 285.5,-116 285.5,-175 285.5,-175 285.5,-181 279.5,-187 273.5,-187\"/>\r\n",
       "<text text-anchor=\"middle\" x=\"212.5\" y=\"-171.8\" font-family=\"Helvetica,sans-Serif\" font-size=\"14.00\">非黄烷类酚类 &lt;= 0.23</text>\r\n",
       "<text text-anchor=\"middle\" x=\"212.5\" y=\"-156.8\" font-family=\"Helvetica,sans-Serif\" font-size=\"14.00\">entropy = 0.544</text>\r\n",
       "<text text-anchor=\"middle\" x=\"212.5\" y=\"-141.8\" font-family=\"Helvetica,sans-Serif\" font-size=\"14.00\">samples = 8</text>\r\n",
       "<text text-anchor=\"middle\" x=\"212.5\" y=\"-126.8\" font-family=\"Helvetica,sans-Serif\" font-size=\"14.00\">value = [0, 7, 1]</text>\r\n",
       "<text text-anchor=\"middle\" x=\"212.5\" y=\"-111.8\" font-family=\"Helvetica,sans-Serif\" font-size=\"14.00\">class = 雪莉</text>\r\n",
       "</g>\r\n",
       "<!-- 3&#45;&gt;5 -->\r\n",
       "<g id=\"edge5\" class=\"edge\"><title>3&#45;&gt;5</title>\r\n",
       "<path fill=\"none\" stroke=\"black\" d=\"M212.5,-222.907C212.5,-214.649 212.5,-205.864 212.5,-197.302\"/>\r\n",
       "<polygon fill=\"black\" stroke=\"black\" points=\"216,-197.021 212.5,-187.021 209,-197.021 216,-197.021\"/>\r\n",
       "</g>\r\n",
       "<!-- 6 -->\r\n",
       "<g id=\"node7\" class=\"node\"><title>6</title>\r\n",
       "<path fill=\"#8139e5\" stroke=\"black\" d=\"M191.5,-68C191.5,-68 99.5,-68 99.5,-68 93.5,-68 87.5,-62 87.5,-56 87.5,-56 87.5,-12 87.5,-12 87.5,-6 93.5,-0 99.5,-0 99.5,-0 191.5,-0 191.5,-0 197.5,-0 203.5,-6 203.5,-12 203.5,-12 203.5,-56 203.5,-56 203.5,-62 197.5,-68 191.5,-68\"/>\r\n",
       "<text text-anchor=\"middle\" x=\"145.5\" y=\"-52.8\" font-family=\"Helvetica,sans-Serif\" font-size=\"14.00\">entropy = 0.0</text>\r\n",
       "<text text-anchor=\"middle\" x=\"145.5\" y=\"-37.8\" font-family=\"Helvetica,sans-Serif\" font-size=\"14.00\">samples = 1</text>\r\n",
       "<text text-anchor=\"middle\" x=\"145.5\" y=\"-22.8\" font-family=\"Helvetica,sans-Serif\" font-size=\"14.00\">value = [0, 0, 1]</text>\r\n",
       "<text text-anchor=\"middle\" x=\"145.5\" y=\"-7.8\" font-family=\"Helvetica,sans-Serif\" font-size=\"14.00\">class = 贝尔摩德</text>\r\n",
       "</g>\r\n",
       "<!-- 5&#45;&gt;6 -->\r\n",
       "<g id=\"edge6\" class=\"edge\"><title>5&#45;&gt;6</title>\r\n",
       "<path fill=\"none\" stroke=\"black\" d=\"M187.552,-103.726C182.194,-94.9703 176.524,-85.7032 171.141,-76.9051\"/>\r\n",
       "<polygon fill=\"black\" stroke=\"black\" points=\"174.08,-75.0028 165.875,-68.2996 168.109,-78.6563 174.08,-75.0028\"/>\r\n",
       "</g>\r\n",
       "<!-- 7 -->\r\n",
       "<g id=\"node8\" class=\"node\"><title>7</title>\r\n",
       "<path fill=\"#39e581\" stroke=\"black\" d=\"M323,-68C323,-68 234,-68 234,-68 228,-68 222,-62 222,-56 222,-56 222,-12 222,-12 222,-6 228,-0 234,-0 234,-0 323,-0 323,-0 329,-0 335,-6 335,-12 335,-12 335,-56 335,-56 335,-62 329,-68 323,-68\"/>\r\n",
       "<text text-anchor=\"middle\" x=\"278.5\" y=\"-52.8\" font-family=\"Helvetica,sans-Serif\" font-size=\"14.00\">entropy = 0.0</text>\r\n",
       "<text text-anchor=\"middle\" x=\"278.5\" y=\"-37.8\" font-family=\"Helvetica,sans-Serif\" font-size=\"14.00\">samples = 7</text>\r\n",
       "<text text-anchor=\"middle\" x=\"278.5\" y=\"-22.8\" font-family=\"Helvetica,sans-Serif\" font-size=\"14.00\">value = [0, 7, 0]</text>\r\n",
       "<text text-anchor=\"middle\" x=\"278.5\" y=\"-7.8\" font-family=\"Helvetica,sans-Serif\" font-size=\"14.00\">class = 雪莉</text>\r\n",
       "</g>\r\n",
       "<!-- 5&#45;&gt;7 -->\r\n",
       "<g id=\"edge7\" class=\"edge\"><title>5&#45;&gt;7</title>\r\n",
       "<path fill=\"none\" stroke=\"black\" d=\"M237.076,-103.726C242.354,-94.9703 247.939,-85.7032 253.242,-76.9051\"/>\r\n",
       "<polygon fill=\"black\" stroke=\"black\" points=\"256.264,-78.671 258.429,-68.2996 250.269,-75.0574 256.264,-78.671\"/>\r\n",
       "</g>\r\n",
       "<!-- 9 -->\r\n",
       "<g id=\"node10\" class=\"node\"><title>9</title>\r\n",
       "<path fill=\"#c09cf2\" stroke=\"black\" d=\"M472.5,-306C472.5,-306 380.5,-306 380.5,-306 374.5,-306 368.5,-300 368.5,-294 368.5,-294 368.5,-235 368.5,-235 368.5,-229 374.5,-223 380.5,-223 380.5,-223 472.5,-223 472.5,-223 478.5,-223 484.5,-229 484.5,-235 484.5,-235 484.5,-294 484.5,-294 484.5,-300 478.5,-306 472.5,-306\"/>\r\n",
       "<text text-anchor=\"middle\" x=\"426.5\" y=\"-290.8\" font-family=\"Helvetica,sans-Serif\" font-size=\"14.00\">花青素 &lt;= 1.5</text>\r\n",
       "<text text-anchor=\"middle\" x=\"426.5\" y=\"-275.8\" font-family=\"Helvetica,sans-Serif\" font-size=\"14.00\">entropy = 0.918</text>\r\n",
       "<text text-anchor=\"middle\" x=\"426.5\" y=\"-260.8\" font-family=\"Helvetica,sans-Serif\" font-size=\"14.00\">samples = 3</text>\r\n",
       "<text text-anchor=\"middle\" x=\"426.5\" y=\"-245.8\" font-family=\"Helvetica,sans-Serif\" font-size=\"14.00\">value = [0, 1, 2]</text>\r\n",
       "<text text-anchor=\"middle\" x=\"426.5\" y=\"-230.8\" font-family=\"Helvetica,sans-Serif\" font-size=\"14.00\">class = 贝尔摩德</text>\r\n",
       "</g>\r\n",
       "<!-- 8&#45;&gt;9 -->\r\n",
       "<g id=\"edge9\" class=\"edge\"><title>8&#45;&gt;9</title>\r\n",
       "<path fill=\"none\" stroke=\"black\" d=\"M426.5,-341.907C426.5,-333.649 426.5,-324.864 426.5,-316.302\"/>\r\n",
       "<polygon fill=\"black\" stroke=\"black\" points=\"430,-316.021 426.5,-306.021 423,-316.021 430,-316.021\"/>\r\n",
       "</g>\r\n",
       "<!-- 12 -->\r\n",
       "<g id=\"node13\" class=\"node\"><title>12</title>\r\n",
       "<path fill=\"#e6843e\" stroke=\"black\" d=\"M678,-306C678,-306 581,-306 581,-306 575,-306 569,-300 569,-294 569,-294 569,-235 569,-235 569,-229 575,-223 581,-223 581,-223 678,-223 678,-223 684,-223 690,-229 690,-235 690,-235 690,-294 690,-294 690,-300 684,-306 678,-306\"/>\r\n",
       "<text text-anchor=\"middle\" x=\"629.5\" y=\"-290.8\" font-family=\"Helvetica,sans-Serif\" font-size=\"14.00\">镁 &lt;= 135.5</text>\r\n",
       "<text text-anchor=\"middle\" x=\"629.5\" y=\"-275.8\" font-family=\"Helvetica,sans-Serif\" font-size=\"14.00\">entropy = 0.162</text>\r\n",
       "<text text-anchor=\"middle\" x=\"629.5\" y=\"-260.8\" font-family=\"Helvetica,sans-Serif\" font-size=\"14.00\">samples = 42</text>\r\n",
       "<text text-anchor=\"middle\" x=\"629.5\" y=\"-245.8\" font-family=\"Helvetica,sans-Serif\" font-size=\"14.00\">value = [41, 1, 0]</text>\r\n",
       "<text text-anchor=\"middle\" x=\"629.5\" y=\"-230.8\" font-family=\"Helvetica,sans-Serif\" font-size=\"14.00\">class = 琴酒</text>\r\n",
       "</g>\r\n",
       "<!-- 8&#45;&gt;12 -->\r\n",
       "<g id=\"edge12\" class=\"edge\"><title>8&#45;&gt;12</title>\r\n",
       "<path fill=\"none\" stroke=\"black\" d=\"M487.132,-347.555C510.026,-334.359 536.251,-319.244 559.904,-305.612\"/>\r\n",
       "<polygon fill=\"black\" stroke=\"black\" points=\"561.914,-308.493 568.83,-300.467 558.418,-302.429 561.914,-308.493\"/>\r\n",
       "</g>\r\n",
       "<!-- 10 -->\r\n",
       "<g id=\"node11\" class=\"node\"><title>10</title>\r\n",
       "<path fill=\"#8139e5\" stroke=\"black\" d=\"M407.5,-179.5C407.5,-179.5 315.5,-179.5 315.5,-179.5 309.5,-179.5 303.5,-173.5 303.5,-167.5 303.5,-167.5 303.5,-123.5 303.5,-123.5 303.5,-117.5 309.5,-111.5 315.5,-111.5 315.5,-111.5 407.5,-111.5 407.5,-111.5 413.5,-111.5 419.5,-117.5 419.5,-123.5 419.5,-123.5 419.5,-167.5 419.5,-167.5 419.5,-173.5 413.5,-179.5 407.5,-179.5\"/>\r\n",
       "<text text-anchor=\"middle\" x=\"361.5\" y=\"-164.3\" font-family=\"Helvetica,sans-Serif\" font-size=\"14.00\">entropy = 0.0</text>\r\n",
       "<text text-anchor=\"middle\" x=\"361.5\" y=\"-149.3\" font-family=\"Helvetica,sans-Serif\" font-size=\"14.00\">samples = 2</text>\r\n",
       "<text text-anchor=\"middle\" x=\"361.5\" y=\"-134.3\" font-family=\"Helvetica,sans-Serif\" font-size=\"14.00\">value = [0, 0, 2]</text>\r\n",
       "<text text-anchor=\"middle\" x=\"361.5\" y=\"-119.3\" font-family=\"Helvetica,sans-Serif\" font-size=\"14.00\">class = 贝尔摩德</text>\r\n",
       "</g>\r\n",
       "<!-- 9&#45;&gt;10 -->\r\n",
       "<g id=\"edge10\" class=\"edge\"><title>9&#45;&gt;10</title>\r\n",
       "<path fill=\"none\" stroke=\"black\" d=\"M403.949,-222.907C397.757,-211.763 391.032,-199.658 384.8,-188.439\"/>\r\n",
       "<polygon fill=\"black\" stroke=\"black\" points=\"387.842,-186.709 379.926,-179.667 381.723,-190.108 387.842,-186.709\"/>\r\n",
       "</g>\r\n",
       "<!-- 11 -->\r\n",
       "<g id=\"node12\" class=\"node\"><title>11</title>\r\n",
       "<path fill=\"#39e581\" stroke=\"black\" d=\"M539,-179.5C539,-179.5 450,-179.5 450,-179.5 444,-179.5 438,-173.5 438,-167.5 438,-167.5 438,-123.5 438,-123.5 438,-117.5 444,-111.5 450,-111.5 450,-111.5 539,-111.5 539,-111.5 545,-111.5 551,-117.5 551,-123.5 551,-123.5 551,-167.5 551,-167.5 551,-173.5 545,-179.5 539,-179.5\"/>\r\n",
       "<text text-anchor=\"middle\" x=\"494.5\" y=\"-164.3\" font-family=\"Helvetica,sans-Serif\" font-size=\"14.00\">entropy = 0.0</text>\r\n",
       "<text text-anchor=\"middle\" x=\"494.5\" y=\"-149.3\" font-family=\"Helvetica,sans-Serif\" font-size=\"14.00\">samples = 1</text>\r\n",
       "<text text-anchor=\"middle\" x=\"494.5\" y=\"-134.3\" font-family=\"Helvetica,sans-Serif\" font-size=\"14.00\">value = [0, 1, 0]</text>\r\n",
       "<text text-anchor=\"middle\" x=\"494.5\" y=\"-119.3\" font-family=\"Helvetica,sans-Serif\" font-size=\"14.00\">class = 雪莉</text>\r\n",
       "</g>\r\n",
       "<!-- 9&#45;&gt;11 -->\r\n",
       "<g id=\"edge11\" class=\"edge\"><title>9&#45;&gt;11</title>\r\n",
       "<path fill=\"none\" stroke=\"black\" d=\"M450.092,-222.907C456.57,-211.763 463.605,-199.658 470.125,-188.439\"/>\r\n",
       "<polygon fill=\"black\" stroke=\"black\" points=\"473.225,-190.072 475.223,-179.667 467.172,-186.554 473.225,-190.072\"/>\r\n",
       "</g>\r\n",
       "<!-- 13 -->\r\n",
       "<g id=\"node14\" class=\"node\"><title>13</title>\r\n",
       "<path fill=\"#e58139\" stroke=\"black\" d=\"M678,-179.5C678,-179.5 581,-179.5 581,-179.5 575,-179.5 569,-173.5 569,-167.5 569,-167.5 569,-123.5 569,-123.5 569,-117.5 575,-111.5 581,-111.5 581,-111.5 678,-111.5 678,-111.5 684,-111.5 690,-117.5 690,-123.5 690,-123.5 690,-167.5 690,-167.5 690,-173.5 684,-179.5 678,-179.5\"/>\r\n",
       "<text text-anchor=\"middle\" x=\"629.5\" y=\"-164.3\" font-family=\"Helvetica,sans-Serif\" font-size=\"14.00\">entropy = 0.0</text>\r\n",
       "<text text-anchor=\"middle\" x=\"629.5\" y=\"-149.3\" font-family=\"Helvetica,sans-Serif\" font-size=\"14.00\">samples = 41</text>\r\n",
       "<text text-anchor=\"middle\" x=\"629.5\" y=\"-134.3\" font-family=\"Helvetica,sans-Serif\" font-size=\"14.00\">value = [41, 0, 0]</text>\r\n",
       "<text text-anchor=\"middle\" x=\"629.5\" y=\"-119.3\" font-family=\"Helvetica,sans-Serif\" font-size=\"14.00\">class = 琴酒</text>\r\n",
       "</g>\r\n",
       "<!-- 12&#45;&gt;13 -->\r\n",
       "<g id=\"edge13\" class=\"edge\"><title>12&#45;&gt;13</title>\r\n",
       "<path fill=\"none\" stroke=\"black\" d=\"M629.5,-222.907C629.5,-212.204 629.5,-200.615 629.5,-189.776\"/>\r\n",
       "<polygon fill=\"black\" stroke=\"black\" points=\"633,-189.667 629.5,-179.667 626,-189.667 633,-189.667\"/>\r\n",
       "</g>\r\n",
       "<!-- 14 -->\r\n",
       "<g id=\"node15\" class=\"node\"><title>14</title>\r\n",
       "<path fill=\"#39e581\" stroke=\"black\" d=\"M809,-179.5C809,-179.5 720,-179.5 720,-179.5 714,-179.5 708,-173.5 708,-167.5 708,-167.5 708,-123.5 708,-123.5 708,-117.5 714,-111.5 720,-111.5 720,-111.5 809,-111.5 809,-111.5 815,-111.5 821,-117.5 821,-123.5 821,-123.5 821,-167.5 821,-167.5 821,-173.5 815,-179.5 809,-179.5\"/>\r\n",
       "<text text-anchor=\"middle\" x=\"764.5\" y=\"-164.3\" font-family=\"Helvetica,sans-Serif\" font-size=\"14.00\">entropy = 0.0</text>\r\n",
       "<text text-anchor=\"middle\" x=\"764.5\" y=\"-149.3\" font-family=\"Helvetica,sans-Serif\" font-size=\"14.00\">samples = 1</text>\r\n",
       "<text text-anchor=\"middle\" x=\"764.5\" y=\"-134.3\" font-family=\"Helvetica,sans-Serif\" font-size=\"14.00\">value = [0, 1, 0]</text>\r\n",
       "<text text-anchor=\"middle\" x=\"764.5\" y=\"-119.3\" font-family=\"Helvetica,sans-Serif\" font-size=\"14.00\">class = 雪莉</text>\r\n",
       "</g>\r\n",
       "<!-- 12&#45;&gt;14 -->\r\n",
       "<g id=\"edge14\" class=\"edge\"><title>12&#45;&gt;14</title>\r\n",
       "<path fill=\"none\" stroke=\"black\" d=\"M676.338,-222.907C689.961,-211.101 704.827,-198.217 718.404,-186.45\"/>\r\n",
       "<polygon fill=\"black\" stroke=\"black\" points=\"720.966,-188.861 726.23,-179.667 716.381,-183.571 720.966,-188.861\"/>\r\n",
       "</g>\r\n",
       "</g>\r\n",
       "</svg>\r\n"
      ],
      "text/plain": [
       "<graphviz.files.Source at 0x146e367c470>"
      ]
     },
     "execution_count": 17,
     "metadata": {},
     "output_type": "execute_result"
    }
   ],
   "source": [
    "import graphviz\n",
    "dot_data = tree.export_graphviz(clf\n",
    "                               ,feature_names=feature_name\n",
    "                               ,class_names=['琴酒','雪莉','贝尔摩德']\n",
    "                               ,filled=True\n",
    "                               ,rounded=True\n",
    "                               )\n",
    "graph = graphviz.Source(dot_data)\n",
    "graph"
   ]
  },
  {
   "cell_type": "markdown",
   "metadata": {},
   "source": [
    "#### 2.剪枝参数"
   ]
  },
  {
   "cell_type": "markdown",
   "metadata": {},
   "source": [
    "* **max_depth**,限制树的最大深度，超过设定深度的树枝全部剪掉"
   ]
  },
  {
   "cell_type": "code",
   "execution_count": 18,
   "metadata": {},
   "outputs": [
    {
     "data": {
      "text/plain": [
       "0.9259259259259259"
      ]
     },
     "execution_count": 18,
     "metadata": {},
     "output_type": "execute_result"
    }
   ],
   "source": [
    "clf = tree.DecisionTreeClassifier(criterion='entropy'\n",
    "                                 ,random_state=30\n",
    "                                 ,splitter='best'\n",
    "                                 ,max_depth=3)\n",
    "clf = clf.fit(Xtrain,ytrain)\n",
    "score = clf.score(Xtest,ytest)\n",
    "score"
   ]
  },
  {
   "cell_type": "markdown",
   "metadata": {},
   "source": [
    "* **min_samples_leaf**，设置子节点最小包含样本数，类别较多的样本建议从=5开始，类别不多的样本默认为1即可\n",
    "* **min_samples_split**，设置一个节点要分裂所包含的最小样本数"
   ]
  },
  {
   "cell_type": "code",
   "execution_count": 19,
   "metadata": {},
   "outputs": [
    {
     "data": {
      "text/plain": [
       "0.9259259259259259"
      ]
     },
     "execution_count": 19,
     "metadata": {},
     "output_type": "execute_result"
    }
   ],
   "source": [
    "clf = tree.DecisionTreeClassifier(criterion='entropy'\n",
    "                                 ,random_state=30\n",
    "                                 ,splitter='best'\n",
    "                                 ,max_depth=3\n",
    "                                 ,min_samples_leaf=1\n",
    "                                 ,min_samples_split=15)\n",
    "clf = clf.fit(Xtrain,ytrain)\n",
    "score = clf.score(Xtest,ytest)\n",
    "score"
   ]
  },
  {
   "cell_type": "markdown",
   "metadata": {},
   "source": [
    "* **min_features**限制分枝时考虑的特征个数，超过限制个数的特征值都会被舍弃，强制设定这个参数会导致模型学习不足，建议使用PCA,ICA或者特征选择模块中的降维算法"
   ]
  },
  {
   "cell_type": "markdown",
   "metadata": {},
   "source": [
    "* **min_impurity_decrease**限制信息增益的大小，信息增益小于设定数值的分枝不会发生"
   ]
  },
  {
   "cell_type": "markdown",
   "metadata": {},
   "source": [
    "#### 3.通过超参数曲线确定最优的剪枝参数"
   ]
  },
  {
   "cell_type": "code",
   "execution_count": 20,
   "metadata": {},
   "outputs": [
    {
     "data": {
      "image/png": "[encoded data removed]",
      "text/plain": [
       "<Figure size 432x288 with 1 Axes>"
      ]
     },
     "metadata": {
      "needs_background": "light"
     },
     "output_type": "display_data"
    }
   ],
   "source": [
    "import matplotlib.pyplot as plt\n",
    "\n",
    "test = []\n",
    "for i in range(10):\n",
    "    clf = tree.DecisionTreeClassifier(max_depth=i+1\n",
    "                                     ,criterion='entropy'\n",
    "                                     ,random_state=30\n",
    "                                     ,splitter='best'\n",
    "                                     )\n",
    "    clf = clf.fit(Xtrain,ytrain)\n",
    "    score = clf.score(Xtest,ytest)\n",
    "    test.append(score)\n",
    "plt.plot(range(1,11),test,color='red',label='max_depth')\n",
    "plt.legend()\n",
    "plt.show()"
   ]
  },
  {
   "cell_type": "markdown",
   "metadata": {},
   "source": [
    "#### 4.目标权重参数"
   ]
  },
  {
   "cell_type": "markdown",
   "metadata": {},
   "source": [
    "* **class_weight**\n",
    "\n",
    "  对样本标签进行一定的均衡，给少量的标签更多的权重，让模型更偏向少数类，向捕获少数类的方向建模，参数默认为None，表示自动给与数据集中的所有标签相同的权重"
   ]
  },
  {
   "cell_type": "markdown",
   "metadata": {},
   "source": [
    "* **min_weight_fraction_leaf**\n",
    "    有了权重之后，样本量就不再是单纯的记录数目，而是受输入的权重影响，因此这时候剪枝，需要搭配min_weight_fraction_leaf基于权重的减值参数来使用"
   ]
  },
  {
   "cell_type": "markdown",
   "metadata": {},
   "source": [
    "#### 5.重要属性和接口"
   ]
  },
  {
   "cell_type": "code",
   "execution_count": 21,
   "metadata": {},
   "outputs": [
    {
     "data": {
      "text/plain": [
       "array([ 2,  7, 13, 10,  7, 13,  2, 13,  4, 13,  2,  4,  4, 13,  4,  2,  2,\n",
       "        4, 13,  2,  4, 10,  4,  6,  2,  2, 13, 14, 13, 13,  4,  2,  4, 10,\n",
       "        2, 13, 13, 13, 13,  4, 10, 10,  2, 10, 13,  4,  2,  7, 13,  2,  7,\n",
       "        7,  2,  2], dtype=int64)"
      ]
     },
     "execution_count": 21,
     "metadata": {},
     "output_type": "execute_result"
    }
   ],
   "source": [
    "clf.apply(Xtest)  # apply返回每个测试样本所在的叶子节点的索引"
   ]
  },
  {
   "cell_type": "code",
   "execution_count": 22,
   "metadata": {},
   "outputs": [
    {
     "data": {
      "text/plain": [
       "array([1, 1, 0, 2, 1, 0, 1, 0, 2, 0, 1, 2, 2, 0, 2, 1, 1, 2, 0, 1, 2, 2,\n",
       "       2, 2, 1, 1, 0, 1, 0, 0, 2, 1, 2, 2, 1, 0, 0, 0, 0, 2, 2, 2, 1, 2,\n",
       "       0, 2, 1, 1, 0, 1, 1, 1, 1, 1])"
      ]
     },
     "execution_count": 22,
     "metadata": {},
     "output_type": "execute_result"
    }
   ],
   "source": [
    "clf.predict(Xtest)  # 返回每个测试样本的分类"
   ]
  },
  {
   "cell_type": "code",
   "execution_count": null,
   "metadata": {},
   "outputs": [],
   "source": []
  }
 ],
 "metadata": {
  "hide_input": false,
  "kernelspec": {
   "display_name": "Python 3",
   "language": "python",
   "name": "python3"
  },
  "language_info": {
   "codemirror_mode": {
    "name": "ipython",
    "version": 3
   },
   "file_extension": ".py",
   "mimetype": "text/x-python",
   "name": "python",
   "nbconvert_exporter": "python",
   "pygments_lexer": "ipython3",
   "version": "3.7.3"
  },
  "latex_envs": {
   "LaTeX_envs_menu_present": true,
   "autoclose": false,
   "autocomplete": true,
   "bibliofile": "biblio.bib",
   "cite_by": "apalike",
   "current_citInitial": 1,
   "eqLabelWithNumbers": true,
   "eqNumInitial": 1,
   "hotkeys": {
    "equation": "Ctrl-E",
    "itemize": "Ctrl-I"
   },
   "labels_anchors": false,
   "latex_user_defs": false,
   "report_style_numbering": false,
   "user_envs_cfg": false
  },
  "varInspector": {
   "cols": {
    "lenName": 16,
    "lenType": 16,
    "lenVar": 40
   },
   "kernels_config": {
    "python": {
     "delete_cmd_postfix": "",
     "delete_cmd_prefix": "del ",
     "library": "var_list.py",
     "varRefreshCmd": "print(var_dic_list())"
    },
    "r": {
     "delete_cmd_postfix": ") ",
     "delete_cmd_prefix": "rm(",
     "library": "var_list.r",
     "varRefreshCmd": "cat(var_dic_list()) "
    }
   },
   "types_to_exclude": [
    "module",
    "function",
    "builtin_function_or_method",
    "instance",
    "_Feature"
   ],
   "window_display": false
  }
 },
 "nbformat": 4,
 "nbformat_minor": 4
}
